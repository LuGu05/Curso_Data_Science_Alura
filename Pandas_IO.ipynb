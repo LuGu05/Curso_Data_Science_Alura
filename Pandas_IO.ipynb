{
  "nbformat": 4,
  "nbformat_minor": 0,
  "metadata": {
    "colab": {
      "name": "Pandas IO.ipynb",
      "provenance": [],
      "authorship_tag": "ABX9TyMVyMHJOU7r/83rbEIDFdJY",
      "include_colab_link": true
    },
    "kernelspec": {
      "name": "python3",
      "display_name": "Python 3"
    },
    "language_info": {
      "name": "python"
    }
  },
  "cells": [
    {
      "cell_type": "markdown",
      "metadata": {
        "id": "view-in-github",
        "colab_type": "text"
      },
      "source": [
        "<a href=\"https://colab.research.google.com/github/LuGu05/Curso_Data_Science_Alura/blob/main/Pandas_IO.ipynb\" target=\"_parent\"><img src=\"https://colab.research.google.com/assets/colab-badge.svg\" alt=\"Open In Colab\"/></a>"
      ]
    },
    {
      "cell_type": "markdown",
      "metadata": {
        "id": "MSiI4BYJOikI"
      },
      "source": [
        "#Curso 8 (pandas)\n",
        "\n"
      ]
    },
    {
      "cell_type": "markdown",
      "metadata": {
        "id": "pzCfefKEWzu6"
      },
      "source": [
        "# Criando os nomes "
      ]
    },
    {
      "cell_type": "code",
      "metadata": {
        "id": "-Emy0j8vOnLX"
      },
      "source": [
        "import pandas as pd"
      ],
      "execution_count": 1,
      "outputs": []
    },
    {
      "cell_type": "code",
      "metadata": {
        "id": "x6suaCxsPuPA"
      },
      "source": [
        "nomes_f = pd.read_json(\"https://servicodados.ibge.gov.br/api/v1/censos/nomes/ranking?qtd=200&sexo=f\")\n",
        "nomes_m = pd.read_json(\"https://servicodados.ibge.gov.br/api/v1/censos/nomes/ranking?qtd=200&sexo=m\")"
      ],
      "execution_count": 2,
      "outputs": []
    },
    {
      "cell_type": "code",
      "metadata": {
        "colab": {
          "base_uri": "https://localhost:8080/"
        },
        "id": "QPbAcloVQC7y",
        "outputId": "3b546043-293c-4283-9753-a43171761838"
      },
      "source": [
        "print(\"Quantidade de nomes: \" + str(len(nomes_f) + len(nomes_m)))"
      ],
      "execution_count": 3,
      "outputs": [
        {
          "output_type": "stream",
          "name": "stdout",
          "text": [
            "Quantidade de nomes: 400\n"
          ]
        }
      ]
    },
    {
      "cell_type": "code",
      "metadata": {
        "id": "El3V0fxWQgt2"
      },
      "source": [
        "frames = [nomes_f, nomes_m]\n"
      ],
      "execution_count": 4,
      "outputs": []
    },
    {
      "cell_type": "code",
      "metadata": {
        "colab": {
          "base_uri": "https://localhost:8080/"
        },
        "id": "R7RZGZVES9Pb",
        "outputId": "b3588836-6d10-4b46-d4dd-4d6a3363c394"
      },
      "source": [
        "frames"
      ],
      "execution_count": 5,
      "outputs": [
        {
          "output_type": "execute_result",
          "data": {
            "text/plain": [
              "[          nome  regiao      freq  rank sexo\n",
              " 0        MARIA       0  11694738     1    F\n",
              " 1          ANA       0   3079729     2    F\n",
              " 2    FRANCISCA       0    721637     3    F\n",
              " 3      ANTONIA       0    588783     4    F\n",
              " 4      ADRIANA       0    565621     5    F\n",
              " ..         ...     ...       ...   ...  ...\n",
              " 195     ROSANE       0     82203   196    F\n",
              " 196    IVONETE       0     81878   197    F\n",
              " 197    LUCIANE       0     81230   198    F\n",
              " 198    ISADORA       0     81100   199    F\n",
              " 199      NILZA       0     80128   200    F\n",
              " \n",
              " [200 rows x 5 columns],           nome  regiao     freq  rank sexo\n",
              " 0         JOSE       0  5732508     1    M\n",
              " 1         JOAO       0  2971935     2    M\n",
              " 2      ANTONIO       0  2567494     3    M\n",
              " 3    FRANCISCO       0  1765197     4    M\n",
              " 4       CARLOS       0  1483121     5    M\n",
              " ..         ...     ...      ...   ...  ...\n",
              " 195     WALTER       0    67207   196    M\n",
              " 196    ARLINDO       0    66669   197    M\n",
              " 197    MICHAEL       0    65736   198    M\n",
              " 198     ALVARO       0    65444   199    M\n",
              " 199    GEOVANE       0    65435   200    M\n",
              " \n",
              " [200 rows x 5 columns]]"
            ]
          },
          "metadata": {},
          "execution_count": 5
        }
      ]
    },
    {
      "cell_type": "code",
      "metadata": {
        "id": "AWXU3Qy9QiJT"
      },
      "source": [
        "nomes = pd.concat(frames)['nome'].to_frame()"
      ],
      "execution_count": 6,
      "outputs": []
    },
    {
      "cell_type": "code",
      "metadata": {
        "colab": {
          "base_uri": "https://localhost:8080/",
          "height": 202
        },
        "id": "x6FRkWEwSXiA",
        "outputId": "34f2883b-900d-4bfe-dbe2-2b3287ac248a"
      },
      "source": [
        "nomes.sample(5)"
      ],
      "execution_count": 7,
      "outputs": [
        {
          "output_type": "execute_result",
          "data": {
            "text/html": [
              "<div>\n",
              "<style scoped>\n",
              "    .dataframe tbody tr th:only-of-type {\n",
              "        vertical-align: middle;\n",
              "    }\n",
              "\n",
              "    .dataframe tbody tr th {\n",
              "        vertical-align: top;\n",
              "    }\n",
              "\n",
              "    .dataframe thead th {\n",
              "        text-align: right;\n",
              "    }\n",
              "</style>\n",
              "<table border=\"1\" class=\"dataframe\">\n",
              "  <thead>\n",
              "    <tr style=\"text-align: right;\">\n",
              "      <th></th>\n",
              "      <th>nome</th>\n",
              "    </tr>\n",
              "  </thead>\n",
              "  <tbody>\n",
              "    <tr>\n",
              "      <th>23</th>\n",
              "      <td>FERNANDO</td>\n",
              "    </tr>\n",
              "    <tr>\n",
              "      <th>178</th>\n",
              "      <td>DENILSON</td>\n",
              "    </tr>\n",
              "    <tr>\n",
              "      <th>16</th>\n",
              "      <td>EDUARDO</td>\n",
              "    </tr>\n",
              "    <tr>\n",
              "      <th>144</th>\n",
              "      <td>LORENA</td>\n",
              "    </tr>\n",
              "    <tr>\n",
              "      <th>39</th>\n",
              "      <td>VITOR</td>\n",
              "    </tr>\n",
              "  </tbody>\n",
              "</table>\n",
              "</div>"
            ],
            "text/plain": [
              "         nome\n",
              "23   FERNANDO\n",
              "178  DENILSON\n",
              "16    EDUARDO\n",
              "144    LORENA\n",
              "39      VITOR"
            ]
          },
          "metadata": {},
          "execution_count": 7
        }
      ]
    },
    {
      "cell_type": "markdown",
      "metadata": {
        "id": "xKKpUbFzXCQQ"
      },
      "source": [
        "# Incluindo Id dos alunos"
      ]
    },
    {
      "cell_type": "code",
      "metadata": {
        "id": "a_bqpUmCXFbX"
      },
      "source": [
        "import numpy as np"
      ],
      "execution_count": 8,
      "outputs": []
    },
    {
      "cell_type": "code",
      "metadata": {
        "id": "ISrgIgPlXJ0J"
      },
      "source": [
        "np.random.seed(123)"
      ],
      "execution_count": 9,
      "outputs": []
    },
    {
      "cell_type": "code",
      "metadata": {
        "id": "fbeTNkR3XSgt"
      },
      "source": [
        "total_alunos = len(nomes)"
      ],
      "execution_count": 10,
      "outputs": []
    },
    {
      "cell_type": "code",
      "metadata": {
        "colab": {
          "base_uri": "https://localhost:8080/"
        },
        "id": "OcEokDzlYVwp",
        "outputId": "df5234ad-dca7-4b11-f475-c3af901f81ce"
      },
      "source": [
        "total_alunos"
      ],
      "execution_count": 11,
      "outputs": [
        {
          "output_type": "execute_result",
          "data": {
            "text/plain": [
              "400"
            ]
          },
          "metadata": {},
          "execution_count": 11
        }
      ]
    },
    {
      "cell_type": "code",
      "metadata": {
        "id": "eO3ikslQYW4V"
      },
      "source": [
        "nomes['Id_aluno'] = np.random.permutation(total_alunos) + 1"
      ],
      "execution_count": 12,
      "outputs": []
    },
    {
      "cell_type": "code",
      "metadata": {
        "colab": {
          "base_uri": "https://localhost:8080/",
          "height": 141
        },
        "id": "P39deREYYZiL",
        "outputId": "bc05d6ee-6f99-45ab-eeb9-5cd459225dcf"
      },
      "source": [
        "nomes.sample(3)"
      ],
      "execution_count": 13,
      "outputs": [
        {
          "output_type": "execute_result",
          "data": {
            "text/html": [
              "<div>\n",
              "<style scoped>\n",
              "    .dataframe tbody tr th:only-of-type {\n",
              "        vertical-align: middle;\n",
              "    }\n",
              "\n",
              "    .dataframe tbody tr th {\n",
              "        vertical-align: top;\n",
              "    }\n",
              "\n",
              "    .dataframe thead th {\n",
              "        text-align: right;\n",
              "    }\n",
              "</style>\n",
              "<table border=\"1\" class=\"dataframe\">\n",
              "  <thead>\n",
              "    <tr style=\"text-align: right;\">\n",
              "      <th></th>\n",
              "      <th>nome</th>\n",
              "      <th>Id_aluno</th>\n",
              "    </tr>\n",
              "  </thead>\n",
              "  <tbody>\n",
              "    <tr>\n",
              "      <th>188</th>\n",
              "      <td>POLIANA</td>\n",
              "      <td>369</td>\n",
              "    </tr>\n",
              "    <tr>\n",
              "      <th>57</th>\n",
              "      <td>DAIANE</td>\n",
              "      <td>303</td>\n",
              "    </tr>\n",
              "    <tr>\n",
              "      <th>3</th>\n",
              "      <td>FRANCISCO</td>\n",
              "      <td>382</td>\n",
              "    </tr>\n",
              "  </tbody>\n",
              "</table>\n",
              "</div>"
            ],
            "text/plain": [
              "          nome  Id_aluno\n",
              "188    POLIANA       369\n",
              "57      DAIANE       303\n",
              "3    FRANCISCO       382"
            ]
          },
          "metadata": {},
          "execution_count": 13
        }
      ]
    },
    {
      "cell_type": "code",
      "metadata": {
        "id": "iM804Y2OYgTd"
      },
      "source": [
        "dominios = ['@dominiodoemmail.com.br', '@servicodoemail.com']\n",
        "nomes['dominio'] = np.random.choice(dominios, total_alunos)"
      ],
      "execution_count": 14,
      "outputs": []
    },
    {
      "cell_type": "code",
      "metadata": {
        "colab": {
          "base_uri": "https://localhost:8080/",
          "height": 202
        },
        "id": "z9filaPLYk78",
        "outputId": "0e4571a7-1d40-4789-fe00-e6fbfbaa7155"
      },
      "source": [
        "nomes.sample(5)"
      ],
      "execution_count": 15,
      "outputs": [
        {
          "output_type": "execute_result",
          "data": {
            "text/html": [
              "<div>\n",
              "<style scoped>\n",
              "    .dataframe tbody tr th:only-of-type {\n",
              "        vertical-align: middle;\n",
              "    }\n",
              "\n",
              "    .dataframe tbody tr th {\n",
              "        vertical-align: top;\n",
              "    }\n",
              "\n",
              "    .dataframe thead th {\n",
              "        text-align: right;\n",
              "    }\n",
              "</style>\n",
              "<table border=\"1\" class=\"dataframe\">\n",
              "  <thead>\n",
              "    <tr style=\"text-align: right;\">\n",
              "      <th></th>\n",
              "      <th>nome</th>\n",
              "      <th>Id_aluno</th>\n",
              "      <th>dominio</th>\n",
              "    </tr>\n",
              "  </thead>\n",
              "  <tbody>\n",
              "    <tr>\n",
              "      <th>84</th>\n",
              "      <td>SEVERINO</td>\n",
              "      <td>78</td>\n",
              "      <td>@dominiodoemmail.com.br</td>\n",
              "    </tr>\n",
              "    <tr>\n",
              "      <th>0</th>\n",
              "      <td>JOSE</td>\n",
              "      <td>331</td>\n",
              "      <td>@servicodoemail.com</td>\n",
              "    </tr>\n",
              "    <tr>\n",
              "      <th>179</th>\n",
              "      <td>IAGO</td>\n",
              "      <td>340</td>\n",
              "      <td>@dominiodoemmail.com.br</td>\n",
              "    </tr>\n",
              "    <tr>\n",
              "      <th>10</th>\n",
              "      <td>SANDRA</td>\n",
              "      <td>174</td>\n",
              "      <td>@dominiodoemmail.com.br</td>\n",
              "    </tr>\n",
              "    <tr>\n",
              "      <th>171</th>\n",
              "      <td>TERESINHA</td>\n",
              "      <td>45</td>\n",
              "      <td>@dominiodoemmail.com.br</td>\n",
              "    </tr>\n",
              "  </tbody>\n",
              "</table>\n",
              "</div>"
            ],
            "text/plain": [
              "          nome  Id_aluno                  dominio\n",
              "84    SEVERINO        78  @dominiodoemmail.com.br\n",
              "0         JOSE       331      @servicodoemail.com\n",
              "179       IAGO       340  @dominiodoemmail.com.br\n",
              "10      SANDRA       174  @dominiodoemmail.com.br\n",
              "171  TERESINHA        45  @dominiodoemmail.com.br"
            ]
          },
          "metadata": {},
          "execution_count": 15
        }
      ]
    },
    {
      "cell_type": "code",
      "metadata": {
        "id": "pozgsBCSZnqb"
      },
      "source": [
        "nomes['email'] = nomes.nome.str.cat(nomes.dominio).str.lower()"
      ],
      "execution_count": 16,
      "outputs": []
    },
    {
      "cell_type": "code",
      "metadata": {
        "id": "_cUVjmlYZ6Oo",
        "colab": {
          "base_uri": "https://localhost:8080/",
          "height": 414
        },
        "outputId": "a0f52455-c0fc-441c-8e89-31d5d4b41a4f"
      },
      "source": [
        "nomes"
      ],
      "execution_count": 17,
      "outputs": [
        {
          "output_type": "execute_result",
          "data": {
            "text/html": [
              "<div>\n",
              "<style scoped>\n",
              "    .dataframe tbody tr th:only-of-type {\n",
              "        vertical-align: middle;\n",
              "    }\n",
              "\n",
              "    .dataframe tbody tr th {\n",
              "        vertical-align: top;\n",
              "    }\n",
              "\n",
              "    .dataframe thead th {\n",
              "        text-align: right;\n",
              "    }\n",
              "</style>\n",
              "<table border=\"1\" class=\"dataframe\">\n",
              "  <thead>\n",
              "    <tr style=\"text-align: right;\">\n",
              "      <th></th>\n",
              "      <th>nome</th>\n",
              "      <th>Id_aluno</th>\n",
              "      <th>dominio</th>\n",
              "      <th>email</th>\n",
              "    </tr>\n",
              "  </thead>\n",
              "  <tbody>\n",
              "    <tr>\n",
              "      <th>0</th>\n",
              "      <td>MARIA</td>\n",
              "      <td>235</td>\n",
              "      <td>@dominiodoemmail.com.br</td>\n",
              "      <td>maria@dominiodoemmail.com.br</td>\n",
              "    </tr>\n",
              "    <tr>\n",
              "      <th>1</th>\n",
              "      <td>ANA</td>\n",
              "      <td>43</td>\n",
              "      <td>@servicodoemail.com</td>\n",
              "      <td>ana@servicodoemail.com</td>\n",
              "    </tr>\n",
              "    <tr>\n",
              "      <th>2</th>\n",
              "      <td>FRANCISCA</td>\n",
              "      <td>304</td>\n",
              "      <td>@servicodoemail.com</td>\n",
              "      <td>francisca@servicodoemail.com</td>\n",
              "    </tr>\n",
              "    <tr>\n",
              "      <th>3</th>\n",
              "      <td>ANTONIA</td>\n",
              "      <td>156</td>\n",
              "      <td>@dominiodoemmail.com.br</td>\n",
              "      <td>antonia@dominiodoemmail.com.br</td>\n",
              "    </tr>\n",
              "    <tr>\n",
              "      <th>4</th>\n",
              "      <td>ADRIANA</td>\n",
              "      <td>343</td>\n",
              "      <td>@servicodoemail.com</td>\n",
              "      <td>adriana@servicodoemail.com</td>\n",
              "    </tr>\n",
              "    <tr>\n",
              "      <th>...</th>\n",
              "      <td>...</td>\n",
              "      <td>...</td>\n",
              "      <td>...</td>\n",
              "      <td>...</td>\n",
              "    </tr>\n",
              "    <tr>\n",
              "      <th>195</th>\n",
              "      <td>WALTER</td>\n",
              "      <td>231</td>\n",
              "      <td>@dominiodoemmail.com.br</td>\n",
              "      <td>walter@dominiodoemmail.com.br</td>\n",
              "    </tr>\n",
              "    <tr>\n",
              "      <th>196</th>\n",
              "      <td>ARLINDO</td>\n",
              "      <td>99</td>\n",
              "      <td>@servicodoemail.com</td>\n",
              "      <td>arlindo@servicodoemail.com</td>\n",
              "    </tr>\n",
              "    <tr>\n",
              "      <th>197</th>\n",
              "      <td>MICHAEL</td>\n",
              "      <td>323</td>\n",
              "      <td>@dominiodoemmail.com.br</td>\n",
              "      <td>michael@dominiodoemmail.com.br</td>\n",
              "    </tr>\n",
              "    <tr>\n",
              "      <th>198</th>\n",
              "      <td>ALVARO</td>\n",
              "      <td>383</td>\n",
              "      <td>@dominiodoemmail.com.br</td>\n",
              "      <td>alvaro@dominiodoemmail.com.br</td>\n",
              "    </tr>\n",
              "    <tr>\n",
              "      <th>199</th>\n",
              "      <td>GEOVANE</td>\n",
              "      <td>366</td>\n",
              "      <td>@servicodoemail.com</td>\n",
              "      <td>geovane@servicodoemail.com</td>\n",
              "    </tr>\n",
              "  </tbody>\n",
              "</table>\n",
              "<p>400 rows × 4 columns</p>\n",
              "</div>"
            ],
            "text/plain": [
              "          nome  ...                           email\n",
              "0        MARIA  ...    maria@dominiodoemmail.com.br\n",
              "1          ANA  ...          ana@servicodoemail.com\n",
              "2    FRANCISCA  ...    francisca@servicodoemail.com\n",
              "3      ANTONIA  ...  antonia@dominiodoemmail.com.br\n",
              "4      ADRIANA  ...      adriana@servicodoemail.com\n",
              "..         ...  ...                             ...\n",
              "195     WALTER  ...   walter@dominiodoemmail.com.br\n",
              "196    ARLINDO  ...      arlindo@servicodoemail.com\n",
              "197    MICHAEL  ...  michael@dominiodoemmail.com.br\n",
              "198     ALVARO  ...   alvaro@dominiodoemmail.com.br\n",
              "199    GEOVANE  ...      geovane@servicodoemail.com\n",
              "\n",
              "[400 rows x 4 columns]"
            ]
          },
          "metadata": {},
          "execution_count": 17
        }
      ]
    },
    {
      "cell_type": "markdown",
      "metadata": {
        "id": "Y-vUc5_Paru2"
      },
      "source": [
        "# Criando a Tabela Curso"
      ]
    },
    {
      "cell_type": "code",
      "metadata": {
        "colab": {
          "base_uri": "https://localhost:8080/"
        },
        "id": "aJlGcujWawDU",
        "outputId": "2edb5e5b-c1e7-4a49-ca8f-558142ad00cc"
      },
      "source": [
        "!pip3 install html5lib\n",
        "!pip3 install lxml\n"
      ],
      "execution_count": 18,
      "outputs": [
        {
          "output_type": "stream",
          "name": "stdout",
          "text": [
            "Requirement already satisfied: html5lib in /usr/local/lib/python3.7/dist-packages (1.0.1)\n",
            "Requirement already satisfied: six>=1.9 in /usr/local/lib/python3.7/dist-packages (from html5lib) (1.15.0)\n",
            "Requirement already satisfied: webencodings in /usr/local/lib/python3.7/dist-packages (from html5lib) (0.5.1)\n",
            "Requirement already satisfied: lxml in /usr/local/lib/python3.7/dist-packages (4.2.6)\n"
          ]
        }
      ]
    },
    {
      "cell_type": "code",
      "metadata": {
        "id": "CZRkgMVhbUfp"
      },
      "source": [
        "import html5lib"
      ],
      "execution_count": 19,
      "outputs": []
    },
    {
      "cell_type": "code",
      "metadata": {
        "id": "qyGkb0RFbplG"
      },
      "source": [
        "url = 'http://tabela-cursos.herokuapp.com/index.html'\n",
        "cursos = pd.read_html(url)"
      ],
      "execution_count": 20,
      "outputs": []
    },
    {
      "cell_type": "code",
      "metadata": {
        "colab": {
          "base_uri": "https://localhost:8080/"
        },
        "id": "1azVBq_zb0Y0",
        "outputId": "1ea448fd-d61a-47ef-c4df-0c9eb18d09a3"
      },
      "source": [
        "cursos"
      ],
      "execution_count": 21,
      "outputs": [
        {
          "output_type": "execute_result",
          "data": {
            "text/plain": [
              "[                          Nome do curso\n",
              " 0                 Lógica de programação\n",
              " 1                         Java para Web\n",
              " 2                           C# para Web\n",
              " 3                         Ruby on Rails\n",
              " 4                      Cursos de Python\n",
              " 5                         PHP com MySql\n",
              " 6                         .NET para web\n",
              " 7            Novas integrações com Java\n",
              " 8                          TDD com Java\n",
              " 9                   Código limpo com C#\n",
              " 10  Preparatório para certificação Java\n",
              " 11                      Hardware básico\n",
              " 12                Persistência com .NET\n",
              " 13                  Desenvolvendo jogos\n",
              " 14                     Análise de dados\n",
              " 15                   Estatística básica\n",
              " 16                  Internet das coisas\n",
              " 17                Programação funcional\n",
              " 18                Boas práticas em Java\n",
              " 19          Orientação objetos com Java]"
            ]
          },
          "metadata": {},
          "execution_count": 21
        }
      ]
    },
    {
      "cell_type": "code",
      "metadata": {
        "colab": {
          "base_uri": "https://localhost:8080/"
        },
        "id": "aqWQC5nub-yj",
        "outputId": "bd091387-752b-40e4-eb52-ba0208fd193f"
      },
      "source": [
        "type(cursos)"
      ],
      "execution_count": 22,
      "outputs": [
        {
          "output_type": "execute_result",
          "data": {
            "text/plain": [
              "list"
            ]
          },
          "metadata": {},
          "execution_count": 22
        }
      ]
    },
    {
      "cell_type": "code",
      "metadata": {
        "id": "ua3pwRO9cBmn"
      },
      "source": [
        "cursos = cursos[0]"
      ],
      "execution_count": 23,
      "outputs": []
    },
    {
      "cell_type": "code",
      "metadata": {
        "colab": {
          "base_uri": "https://localhost:8080/"
        },
        "id": "K3HkftDvcGG1",
        "outputId": "f2543ccf-5760-4fe7-95c1-d75ff20275a9"
      },
      "source": [
        "type(cursos)"
      ],
      "execution_count": 24,
      "outputs": [
        {
          "output_type": "execute_result",
          "data": {
            "text/plain": [
              "pandas.core.frame.DataFrame"
            ]
          },
          "metadata": {},
          "execution_count": 24
        }
      ]
    },
    {
      "cell_type": "code",
      "metadata": {
        "colab": {
          "base_uri": "https://localhost:8080/",
          "height": 0
        },
        "id": "XjRNpgn_cK-P",
        "outputId": "6de0ade5-8743-450d-ed92-d5a28f191446"
      },
      "source": [
        "cursos.head()"
      ],
      "execution_count": 25,
      "outputs": [
        {
          "output_type": "execute_result",
          "data": {
            "text/html": [
              "<div>\n",
              "<style scoped>\n",
              "    .dataframe tbody tr th:only-of-type {\n",
              "        vertical-align: middle;\n",
              "    }\n",
              "\n",
              "    .dataframe tbody tr th {\n",
              "        vertical-align: top;\n",
              "    }\n",
              "\n",
              "    .dataframe thead th {\n",
              "        text-align: right;\n",
              "    }\n",
              "</style>\n",
              "<table border=\"1\" class=\"dataframe\">\n",
              "  <thead>\n",
              "    <tr style=\"text-align: right;\">\n",
              "      <th></th>\n",
              "      <th>Nome do curso</th>\n",
              "    </tr>\n",
              "  </thead>\n",
              "  <tbody>\n",
              "    <tr>\n",
              "      <th>0</th>\n",
              "      <td>Lógica de programação</td>\n",
              "    </tr>\n",
              "    <tr>\n",
              "      <th>1</th>\n",
              "      <td>Java para Web</td>\n",
              "    </tr>\n",
              "    <tr>\n",
              "      <th>2</th>\n",
              "      <td>C# para Web</td>\n",
              "    </tr>\n",
              "    <tr>\n",
              "      <th>3</th>\n",
              "      <td>Ruby on Rails</td>\n",
              "    </tr>\n",
              "    <tr>\n",
              "      <th>4</th>\n",
              "      <td>Cursos de Python</td>\n",
              "    </tr>\n",
              "  </tbody>\n",
              "</table>\n",
              "</div>"
            ],
            "text/plain": [
              "           Nome do curso\n",
              "0  Lógica de programação\n",
              "1          Java para Web\n",
              "2            C# para Web\n",
              "3          Ruby on Rails\n",
              "4       Cursos de Python"
            ]
          },
          "metadata": {},
          "execution_count": 25
        }
      ]
    },
    {
      "cell_type": "markdown",
      "metadata": {
        "id": "S5SKvpBacvcb"
      },
      "source": [
        "# Alterando o index de cursos"
      ]
    },
    {
      "cell_type": "code",
      "metadata": {
        "id": "mkkWqAfUcwb2"
      },
      "source": [
        "cursos = cursos.rename(columns={'Nome do curso': 'nome_do_curso'})\n"
      ],
      "execution_count": 26,
      "outputs": []
    },
    {
      "cell_type": "code",
      "metadata": {
        "colab": {
          "base_uri": "https://localhost:8080/",
          "height": 0
        },
        "id": "K4p7R-BjdEwh",
        "outputId": "2b13d814-0b0e-400e-f407-4c7e11ef44ad"
      },
      "source": [
        "cursos.head(2)"
      ],
      "execution_count": 27,
      "outputs": [
        {
          "output_type": "execute_result",
          "data": {
            "text/html": [
              "<div>\n",
              "<style scoped>\n",
              "    .dataframe tbody tr th:only-of-type {\n",
              "        vertical-align: middle;\n",
              "    }\n",
              "\n",
              "    .dataframe tbody tr th {\n",
              "        vertical-align: top;\n",
              "    }\n",
              "\n",
              "    .dataframe thead th {\n",
              "        text-align: right;\n",
              "    }\n",
              "</style>\n",
              "<table border=\"1\" class=\"dataframe\">\n",
              "  <thead>\n",
              "    <tr style=\"text-align: right;\">\n",
              "      <th></th>\n",
              "      <th>nome_do_curso</th>\n",
              "    </tr>\n",
              "  </thead>\n",
              "  <tbody>\n",
              "    <tr>\n",
              "      <th>0</th>\n",
              "      <td>Lógica de programação</td>\n",
              "    </tr>\n",
              "    <tr>\n",
              "      <th>1</th>\n",
              "      <td>Java para Web</td>\n",
              "    </tr>\n",
              "  </tbody>\n",
              "</table>\n",
              "</div>"
            ],
            "text/plain": [
              "           nome_do_curso\n",
              "0  Lógica de programação\n",
              "1          Java para Web"
            ]
          },
          "metadata": {},
          "execution_count": 27
        }
      ]
    },
    {
      "cell_type": "code",
      "metadata": {
        "id": "b5hNF6DFdXY3"
      },
      "source": [
        "cursos['Id']= cursos.index + 1"
      ],
      "execution_count": 28,
      "outputs": []
    },
    {
      "cell_type": "code",
      "metadata": {
        "colab": {
          "base_uri": "https://localhost:8080/",
          "height": 0
        },
        "id": "Twaf5QJNdv3c",
        "outputId": "7484758e-3d19-4ef1-b179-830369d1a066"
      },
      "source": [
        "cursos.head()"
      ],
      "execution_count": 29,
      "outputs": [
        {
          "output_type": "execute_result",
          "data": {
            "text/html": [
              "<div>\n",
              "<style scoped>\n",
              "    .dataframe tbody tr th:only-of-type {\n",
              "        vertical-align: middle;\n",
              "    }\n",
              "\n",
              "    .dataframe tbody tr th {\n",
              "        vertical-align: top;\n",
              "    }\n",
              "\n",
              "    .dataframe thead th {\n",
              "        text-align: right;\n",
              "    }\n",
              "</style>\n",
              "<table border=\"1\" class=\"dataframe\">\n",
              "  <thead>\n",
              "    <tr style=\"text-align: right;\">\n",
              "      <th></th>\n",
              "      <th>nome_do_curso</th>\n",
              "      <th>Id</th>\n",
              "    </tr>\n",
              "  </thead>\n",
              "  <tbody>\n",
              "    <tr>\n",
              "      <th>0</th>\n",
              "      <td>Lógica de programação</td>\n",
              "      <td>1</td>\n",
              "    </tr>\n",
              "    <tr>\n",
              "      <th>1</th>\n",
              "      <td>Java para Web</td>\n",
              "      <td>2</td>\n",
              "    </tr>\n",
              "    <tr>\n",
              "      <th>2</th>\n",
              "      <td>C# para Web</td>\n",
              "      <td>3</td>\n",
              "    </tr>\n",
              "    <tr>\n",
              "      <th>3</th>\n",
              "      <td>Ruby on Rails</td>\n",
              "      <td>4</td>\n",
              "    </tr>\n",
              "    <tr>\n",
              "      <th>4</th>\n",
              "      <td>Cursos de Python</td>\n",
              "      <td>5</td>\n",
              "    </tr>\n",
              "  </tbody>\n",
              "</table>\n",
              "</div>"
            ],
            "text/plain": [
              "           nome_do_curso  Id\n",
              "0  Lógica de programação   1\n",
              "1          Java para Web   2\n",
              "2            C# para Web   3\n",
              "3          Ruby on Rails   4\n",
              "4       Cursos de Python   5"
            ]
          },
          "metadata": {},
          "execution_count": 29
        }
      ]
    },
    {
      "cell_type": "code",
      "metadata": {
        "id": "X-mn9yqadxnu"
      },
      "source": [
        "cursos = cursos.set_index('Id')"
      ],
      "execution_count": 30,
      "outputs": []
    },
    {
      "cell_type": "code",
      "metadata": {
        "colab": {
          "base_uri": "https://localhost:8080/",
          "height": 0
        },
        "id": "PEi3bBDPeDDI",
        "outputId": "a19f9139-a134-48da-d9b0-79cfe0fdc4fe"
      },
      "source": [
        "cursos.head()"
      ],
      "execution_count": 31,
      "outputs": [
        {
          "output_type": "execute_result",
          "data": {
            "text/html": [
              "<div>\n",
              "<style scoped>\n",
              "    .dataframe tbody tr th:only-of-type {\n",
              "        vertical-align: middle;\n",
              "    }\n",
              "\n",
              "    .dataframe tbody tr th {\n",
              "        vertical-align: top;\n",
              "    }\n",
              "\n",
              "    .dataframe thead th {\n",
              "        text-align: right;\n",
              "    }\n",
              "</style>\n",
              "<table border=\"1\" class=\"dataframe\">\n",
              "  <thead>\n",
              "    <tr style=\"text-align: right;\">\n",
              "      <th></th>\n",
              "      <th>nome_do_curso</th>\n",
              "    </tr>\n",
              "    <tr>\n",
              "      <th>Id</th>\n",
              "      <th></th>\n",
              "    </tr>\n",
              "  </thead>\n",
              "  <tbody>\n",
              "    <tr>\n",
              "      <th>1</th>\n",
              "      <td>Lógica de programação</td>\n",
              "    </tr>\n",
              "    <tr>\n",
              "      <th>2</th>\n",
              "      <td>Java para Web</td>\n",
              "    </tr>\n",
              "    <tr>\n",
              "      <th>3</th>\n",
              "      <td>C# para Web</td>\n",
              "    </tr>\n",
              "    <tr>\n",
              "      <th>4</th>\n",
              "      <td>Ruby on Rails</td>\n",
              "    </tr>\n",
              "    <tr>\n",
              "      <th>5</th>\n",
              "      <td>Cursos de Python</td>\n",
              "    </tr>\n",
              "  </tbody>\n",
              "</table>\n",
              "</div>"
            ],
            "text/plain": [
              "            nome_do_curso\n",
              "Id                       \n",
              "1   Lógica de programação\n",
              "2           Java para Web\n",
              "3             C# para Web\n",
              "4           Ruby on Rails\n",
              "5        Cursos de Python"
            ]
          },
          "metadata": {},
          "execution_count": 31
        }
      ]
    },
    {
      "cell_type": "markdown",
      "metadata": {
        "id": "Wn75X8Xy-s7v"
      },
      "source": [
        "# Matriculando os alunos nos cursos"
      ]
    },
    {
      "cell_type": "code",
      "metadata": {
        "id": "PMtIuVtKeFVd",
        "colab": {
          "base_uri": "https://localhost:8080/",
          "height": 0
        },
        "outputId": "4acdec94-c899-4e8a-89db-182f2122ad56"
      },
      "source": [
        "nomes.sample(5)"
      ],
      "execution_count": 32,
      "outputs": [
        {
          "output_type": "execute_result",
          "data": {
            "text/html": [
              "<div>\n",
              "<style scoped>\n",
              "    .dataframe tbody tr th:only-of-type {\n",
              "        vertical-align: middle;\n",
              "    }\n",
              "\n",
              "    .dataframe tbody tr th {\n",
              "        vertical-align: top;\n",
              "    }\n",
              "\n",
              "    .dataframe thead th {\n",
              "        text-align: right;\n",
              "    }\n",
              "</style>\n",
              "<table border=\"1\" class=\"dataframe\">\n",
              "  <thead>\n",
              "    <tr style=\"text-align: right;\">\n",
              "      <th></th>\n",
              "      <th>nome</th>\n",
              "      <th>Id_aluno</th>\n",
              "      <th>dominio</th>\n",
              "      <th>email</th>\n",
              "    </tr>\n",
              "  </thead>\n",
              "  <tbody>\n",
              "    <tr>\n",
              "      <th>114</th>\n",
              "      <td>ARTHUR</td>\n",
              "      <td>320</td>\n",
              "      <td>@dominiodoemmail.com.br</td>\n",
              "      <td>arthur@dominiodoemmail.com.br</td>\n",
              "    </tr>\n",
              "    <tr>\n",
              "      <th>57</th>\n",
              "      <td>DAIANE</td>\n",
              "      <td>303</td>\n",
              "      <td>@servicodoemail.com</td>\n",
              "      <td>daiane@servicodoemail.com</td>\n",
              "    </tr>\n",
              "    <tr>\n",
              "      <th>85</th>\n",
              "      <td>HELENA</td>\n",
              "      <td>221</td>\n",
              "      <td>@dominiodoemmail.com.br</td>\n",
              "      <td>helena@dominiodoemmail.com.br</td>\n",
              "    </tr>\n",
              "    <tr>\n",
              "      <th>183</th>\n",
              "      <td>IRACI</td>\n",
              "      <td>8</td>\n",
              "      <td>@dominiodoemmail.com.br</td>\n",
              "      <td>iraci@dominiodoemmail.com.br</td>\n",
              "    </tr>\n",
              "    <tr>\n",
              "      <th>189</th>\n",
              "      <td>DALVA</td>\n",
              "      <td>137</td>\n",
              "      <td>@dominiodoemmail.com.br</td>\n",
              "      <td>dalva@dominiodoemmail.com.br</td>\n",
              "    </tr>\n",
              "  </tbody>\n",
              "</table>\n",
              "</div>"
            ],
            "text/plain": [
              "       nome  Id_aluno                  dominio                          email\n",
              "114  ARTHUR       320  @dominiodoemmail.com.br  arthur@dominiodoemmail.com.br\n",
              "57   DAIANE       303      @servicodoemail.com      daiane@servicodoemail.com\n",
              "85   HELENA       221  @dominiodoemmail.com.br  helena@dominiodoemmail.com.br\n",
              "183   IRACI         8  @dominiodoemmail.com.br   iraci@dominiodoemmail.com.br\n",
              "189   DALVA       137  @dominiodoemmail.com.br   dalva@dominiodoemmail.com.br"
            ]
          },
          "metadata": {},
          "execution_count": 32
        }
      ]
    },
    {
      "cell_type": "code",
      "metadata": {
        "id": "Cat9gCAv-0s5"
      },
      "source": [
        "nomes['matriculas'] = np.ceil(np.random.exponential(size = total_alunos) * 1.5).astype(int)"
      ],
      "execution_count": 33,
      "outputs": []
    },
    {
      "cell_type": "code",
      "metadata": {
        "colab": {
          "base_uri": "https://localhost:8080/",
          "height": 0
        },
        "id": "D-rhudWT_XYr",
        "outputId": "c56811c4-bd9a-4f0c-f10a-58b536d2c648"
      },
      "source": [
        "nomes.sample(5)"
      ],
      "execution_count": 34,
      "outputs": [
        {
          "output_type": "execute_result",
          "data": {
            "text/html": [
              "<div>\n",
              "<style scoped>\n",
              "    .dataframe tbody tr th:only-of-type {\n",
              "        vertical-align: middle;\n",
              "    }\n",
              "\n",
              "    .dataframe tbody tr th {\n",
              "        vertical-align: top;\n",
              "    }\n",
              "\n",
              "    .dataframe thead th {\n",
              "        text-align: right;\n",
              "    }\n",
              "</style>\n",
              "<table border=\"1\" class=\"dataframe\">\n",
              "  <thead>\n",
              "    <tr style=\"text-align: right;\">\n",
              "      <th></th>\n",
              "      <th>nome</th>\n",
              "      <th>Id_aluno</th>\n",
              "      <th>dominio</th>\n",
              "      <th>email</th>\n",
              "      <th>matriculas</th>\n",
              "    </tr>\n",
              "  </thead>\n",
              "  <tbody>\n",
              "    <tr>\n",
              "      <th>105</th>\n",
              "      <td>MILENA</td>\n",
              "      <td>371</td>\n",
              "      <td>@dominiodoemmail.com.br</td>\n",
              "      <td>milena@dominiodoemmail.com.br</td>\n",
              "      <td>2</td>\n",
              "    </tr>\n",
              "    <tr>\n",
              "      <th>183</th>\n",
              "      <td>IRACI</td>\n",
              "      <td>8</td>\n",
              "      <td>@dominiodoemmail.com.br</td>\n",
              "      <td>iraci@dominiodoemmail.com.br</td>\n",
              "      <td>1</td>\n",
              "    </tr>\n",
              "    <tr>\n",
              "      <th>10</th>\n",
              "      <td>LUIS</td>\n",
              "      <td>125</td>\n",
              "      <td>@dominiodoemmail.com.br</td>\n",
              "      <td>luis@dominiodoemmail.com.br</td>\n",
              "      <td>2</td>\n",
              "    </tr>\n",
              "    <tr>\n",
              "      <th>139</th>\n",
              "      <td>OSMAR</td>\n",
              "      <td>71</td>\n",
              "      <td>@dominiodoemmail.com.br</td>\n",
              "      <td>osmar@dominiodoemmail.com.br</td>\n",
              "      <td>2</td>\n",
              "    </tr>\n",
              "    <tr>\n",
              "      <th>40</th>\n",
              "      <td>SERGIO</td>\n",
              "      <td>139</td>\n",
              "      <td>@servicodoemail.com</td>\n",
              "      <td>sergio@servicodoemail.com</td>\n",
              "      <td>2</td>\n",
              "    </tr>\n",
              "  </tbody>\n",
              "</table>\n",
              "</div>"
            ],
            "text/plain": [
              "       nome  Id_aluno  ...                          email matriculas\n",
              "105  MILENA       371  ...  milena@dominiodoemmail.com.br          2\n",
              "183   IRACI         8  ...   iraci@dominiodoemmail.com.br          1\n",
              "10     LUIS       125  ...    luis@dominiodoemmail.com.br          2\n",
              "139   OSMAR        71  ...   osmar@dominiodoemmail.com.br          2\n",
              "40   SERGIO       139  ...      sergio@servicodoemail.com          2\n",
              "\n",
              "[5 rows x 5 columns]"
            ]
          },
          "metadata": {},
          "execution_count": 34
        }
      ]
    },
    {
      "cell_type": "code",
      "metadata": {
        "colab": {
          "base_uri": "https://localhost:8080/"
        },
        "id": "9GM2sGIe_Za1",
        "outputId": "9656bfe4-e0c4-403b-a8b5-d8c0773b2db4"
      },
      "source": [
        "nomes.matriculas.describe()"
      ],
      "execution_count": 35,
      "outputs": [
        {
          "output_type": "execute_result",
          "data": {
            "text/plain": [
              "count    400.000000\n",
              "mean       2.135000\n",
              "std        1.515757\n",
              "min        1.000000\n",
              "25%        1.000000\n",
              "50%        2.000000\n",
              "75%        3.000000\n",
              "max       12.000000\n",
              "Name: matriculas, dtype: float64"
            ]
          },
          "metadata": {},
          "execution_count": 35
        }
      ]
    },
    {
      "cell_type": "code",
      "metadata": {
        "id": "3zEJH3B__2mN"
      },
      "source": [
        "import seaborn as sns"
      ],
      "execution_count": 36,
      "outputs": []
    },
    {
      "cell_type": "code",
      "metadata": {
        "colab": {
          "base_uri": "https://localhost:8080/",
          "height": 0
        },
        "id": "uXPfODJCADGT",
        "outputId": "0f2aeb49-1cbf-4a2e-ac61-0b15b600007a"
      },
      "source": [
        "sns.distplot(nomes.matriculas)"
      ],
      "execution_count": 37,
      "outputs": [
        {
          "output_type": "stream",
          "name": "stderr",
          "text": [
            "/usr/local/lib/python3.7/dist-packages/seaborn/distributions.py:2619: FutureWarning: `distplot` is a deprecated function and will be removed in a future version. Please adapt your code to use either `displot` (a figure-level function with similar flexibility) or `histplot` (an axes-level function for histograms).\n",
            "  warnings.warn(msg, FutureWarning)\n"
          ]
        },
        {
          "output_type": "execute_result",
          "data": {
            "text/plain": [
              "<matplotlib.axes._subplots.AxesSubplot at 0x7f80b27e7c50>"
            ]
          },
          "metadata": {},
          "execution_count": 37
        },
        {
          "output_type": "display_data",
          "data": {
            "image/png": "[encoded data removed]",
            "text/plain": [
              "<Figure size 432x288 with 1 Axes>"
            ]
          },
          "metadata": {
            "needs_background": "light"
          }
        }
      ]
    },
    {
      "cell_type": "code",
      "metadata": {
        "colab": {
          "base_uri": "https://localhost:8080/"
        },
        "id": "Fh0-5WsDALQ3",
        "outputId": "21ed6313-e930-49ce-d8dc-76e4567de64d"
      },
      "source": [
        "nomes.matriculas.value_counts()"
      ],
      "execution_count": 38,
      "outputs": [
        {
          "output_type": "execute_result",
          "data": {
            "text/plain": [
              "1     184\n",
              "2      97\n",
              "3      56\n",
              "4      34\n",
              "5      19\n",
              "6       5\n",
              "12      2\n",
              "8       2\n",
              "7       1\n",
              "Name: matriculas, dtype: int64"
            ]
          },
          "metadata": {},
          "execution_count": 38
        }
      ]
    },
    {
      "cell_type": "markdown",
      "metadata": {
        "id": "itvpVBUfkXrb"
      },
      "source": [
        "# Selecionando curso"
      ]
    },
    {
      "cell_type": "code",
      "metadata": {
        "colab": {
          "base_uri": "https://localhost:8080/",
          "height": 0
        },
        "id": "W2BNdMOGkcDc",
        "outputId": "497711c7-ccdd-4569-be68-e12abd24901b"
      },
      "source": [
        "nomes.sample(3)"
      ],
      "execution_count": 39,
      "outputs": [
        {
          "output_type": "execute_result",
          "data": {
            "text/html": [
              "<div>\n",
              "<style scoped>\n",
              "    .dataframe tbody tr th:only-of-type {\n",
              "        vertical-align: middle;\n",
              "    }\n",
              "\n",
              "    .dataframe tbody tr th {\n",
              "        vertical-align: top;\n",
              "    }\n",
              "\n",
              "    .dataframe thead th {\n",
              "        text-align: right;\n",
              "    }\n",
              "</style>\n",
              "<table border=\"1\" class=\"dataframe\">\n",
              "  <thead>\n",
              "    <tr style=\"text-align: right;\">\n",
              "      <th></th>\n",
              "      <th>nome</th>\n",
              "      <th>Id_aluno</th>\n",
              "      <th>dominio</th>\n",
              "      <th>email</th>\n",
              "      <th>matriculas</th>\n",
              "    </tr>\n",
              "  </thead>\n",
              "  <tbody>\n",
              "    <tr>\n",
              "      <th>103</th>\n",
              "      <td>MAICON</td>\n",
              "      <td>295</td>\n",
              "      <td>@servicodoemail.com</td>\n",
              "      <td>maicon@servicodoemail.com</td>\n",
              "      <td>4</td>\n",
              "    </tr>\n",
              "    <tr>\n",
              "      <th>44</th>\n",
              "      <td>RAIMUNDA</td>\n",
              "      <td>259</td>\n",
              "      <td>@servicodoemail.com</td>\n",
              "      <td>raimunda@servicodoemail.com</td>\n",
              "      <td>5</td>\n",
              "    </tr>\n",
              "    <tr>\n",
              "      <th>50</th>\n",
              "      <td>RAFAELA</td>\n",
              "      <td>27</td>\n",
              "      <td>@dominiodoemmail.com.br</td>\n",
              "      <td>rafaela@dominiodoemmail.com.br</td>\n",
              "      <td>3</td>\n",
              "    </tr>\n",
              "  </tbody>\n",
              "</table>\n",
              "</div>"
            ],
            "text/plain": [
              "         nome  Id_aluno  ...                           email matriculas\n",
              "103    MAICON       295  ...       maicon@servicodoemail.com          4\n",
              "44   RAIMUNDA       259  ...     raimunda@servicodoemail.com          5\n",
              "50    RAFAELA        27  ...  rafaela@dominiodoemmail.com.br          3\n",
              "\n",
              "[3 rows x 5 columns]"
            ]
          },
          "metadata": {},
          "execution_count": 39
        }
      ]
    },
    {
      "cell_type": "code",
      "metadata": {
        "id": "4oRZyThYkfvJ"
      },
      "source": [
        "todas_matriculas = []\n",
        "x = np.random.rand(20)\n",
        "prob = x / sum(x)"
      ],
      "execution_count": 40,
      "outputs": []
    },
    {
      "cell_type": "code",
      "metadata": {
        "colab": {
          "base_uri": "https://localhost:8080/",
          "height": 0
        },
        "id": "iAtr8lPPk8VA",
        "outputId": "d7ef1b44-3ad8-41b7-a5c0-dce6f7bee8b3"
      },
      "source": [
        "for index, row in nomes.iterrows():\n",
        "  Id = row.Id_aluno\n",
        "  matriculas = row.matriculas\n",
        "  for i in range(matriculas):\n",
        "    mat = [Id, np.random.choice(cursos.index, p = prob)]\n",
        "    todas_matriculas.append(mat)\n",
        "\n",
        "matriculas = pd.DataFrame(todas_matriculas, columns = ['Id_aluno', 'Id_curso'])\n",
        "matriculas.head(5)"
      ],
      "execution_count": 41,
      "outputs": [
        {
          "output_type": "execute_result",
          "data": {
            "text/html": [
              "<div>\n",
              "<style scoped>\n",
              "    .dataframe tbody tr th:only-of-type {\n",
              "        vertical-align: middle;\n",
              "    }\n",
              "\n",
              "    .dataframe tbody tr th {\n",
              "        vertical-align: top;\n",
              "    }\n",
              "\n",
              "    .dataframe thead th {\n",
              "        text-align: right;\n",
              "    }\n",
              "</style>\n",
              "<table border=\"1\" class=\"dataframe\">\n",
              "  <thead>\n",
              "    <tr style=\"text-align: right;\">\n",
              "      <th></th>\n",
              "      <th>Id_aluno</th>\n",
              "      <th>Id_curso</th>\n",
              "    </tr>\n",
              "  </thead>\n",
              "  <tbody>\n",
              "    <tr>\n",
              "      <th>0</th>\n",
              "      <td>235</td>\n",
              "      <td>19</td>\n",
              "    </tr>\n",
              "    <tr>\n",
              "      <th>1</th>\n",
              "      <td>43</td>\n",
              "      <td>6</td>\n",
              "    </tr>\n",
              "    <tr>\n",
              "      <th>2</th>\n",
              "      <td>304</td>\n",
              "      <td>16</td>\n",
              "    </tr>\n",
              "    <tr>\n",
              "      <th>3</th>\n",
              "      <td>304</td>\n",
              "      <td>18</td>\n",
              "    </tr>\n",
              "    <tr>\n",
              "      <th>4</th>\n",
              "      <td>304</td>\n",
              "      <td>11</td>\n",
              "    </tr>\n",
              "  </tbody>\n",
              "</table>\n",
              "</div>"
            ],
            "text/plain": [
              "   Id_aluno  Id_curso\n",
              "0       235        19\n",
              "1        43         6\n",
              "2       304        16\n",
              "3       304        18\n",
              "4       304        11"
            ]
          },
          "metadata": {},
          "execution_count": 41
        }
      ]
    },
    {
      "cell_type": "code",
      "metadata": {
        "colab": {
          "base_uri": "https://localhost:8080/",
          "height": 0
        },
        "id": "pAeWgkPimCaU",
        "outputId": "ad7c5693-ecd0-4b04-8c71-6ae0fcaa7907"
      },
      "source": [
        "matriculas.groupby('Id_curso').count().join(cursos['nome_do_curso']).rename(columns={'Id_aluno':'quantidade_de_alunos'})"
      ],
      "execution_count": 42,
      "outputs": [
        {
          "output_type": "execute_result",
          "data": {
            "text/html": [
              "<div>\n",
              "<style scoped>\n",
              "    .dataframe tbody tr th:only-of-type {\n",
              "        vertical-align: middle;\n",
              "    }\n",
              "\n",
              "    .dataframe tbody tr th {\n",
              "        vertical-align: top;\n",
              "    }\n",
              "\n",
              "    .dataframe thead th {\n",
              "        text-align: right;\n",
              "    }\n",
              "</style>\n",
              "<table border=\"1\" class=\"dataframe\">\n",
              "  <thead>\n",
              "    <tr style=\"text-align: right;\">\n",
              "      <th></th>\n",
              "      <th>quantidade_de_alunos</th>\n",
              "      <th>nome_do_curso</th>\n",
              "    </tr>\n",
              "    <tr>\n",
              "      <th>Id_curso</th>\n",
              "      <th></th>\n",
              "      <th></th>\n",
              "    </tr>\n",
              "  </thead>\n",
              "  <tbody>\n",
              "    <tr>\n",
              "      <th>1</th>\n",
              "      <td>77</td>\n",
              "      <td>Lógica de programação</td>\n",
              "    </tr>\n",
              "    <tr>\n",
              "      <th>2</th>\n",
              "      <td>4</td>\n",
              "      <td>Java para Web</td>\n",
              "    </tr>\n",
              "    <tr>\n",
              "      <th>3</th>\n",
              "      <td>32</td>\n",
              "      <td>C# para Web</td>\n",
              "    </tr>\n",
              "    <tr>\n",
              "      <th>4</th>\n",
              "      <td>68</td>\n",
              "      <td>Ruby on Rails</td>\n",
              "    </tr>\n",
              "    <tr>\n",
              "      <th>5</th>\n",
              "      <td>17</td>\n",
              "      <td>Cursos de Python</td>\n",
              "    </tr>\n",
              "    <tr>\n",
              "      <th>6</th>\n",
              "      <td>36</td>\n",
              "      <td>PHP com MySql</td>\n",
              "    </tr>\n",
              "    <tr>\n",
              "      <th>7</th>\n",
              "      <td>38</td>\n",
              "      <td>.NET para web</td>\n",
              "    </tr>\n",
              "    <tr>\n",
              "      <th>8</th>\n",
              "      <td>16</td>\n",
              "      <td>Novas integrações com Java</td>\n",
              "    </tr>\n",
              "    <tr>\n",
              "      <th>9</th>\n",
              "      <td>41</td>\n",
              "      <td>TDD com Java</td>\n",
              "    </tr>\n",
              "    <tr>\n",
              "      <th>10</th>\n",
              "      <td>67</td>\n",
              "      <td>Código limpo com C#</td>\n",
              "    </tr>\n",
              "    <tr>\n",
              "      <th>11</th>\n",
              "      <td>56</td>\n",
              "      <td>Preparatório para certificação Java</td>\n",
              "    </tr>\n",
              "    <tr>\n",
              "      <th>12</th>\n",
              "      <td>87</td>\n",
              "      <td>Hardware básico</td>\n",
              "    </tr>\n",
              "    <tr>\n",
              "      <th>13</th>\n",
              "      <td>17</td>\n",
              "      <td>Persistência com .NET</td>\n",
              "    </tr>\n",
              "    <tr>\n",
              "      <th>15</th>\n",
              "      <td>23</td>\n",
              "      <td>Análise de dados</td>\n",
              "    </tr>\n",
              "    <tr>\n",
              "      <th>16</th>\n",
              "      <td>74</td>\n",
              "      <td>Estatística básica</td>\n",
              "    </tr>\n",
              "    <tr>\n",
              "      <th>17</th>\n",
              "      <td>13</td>\n",
              "      <td>Internet das coisas</td>\n",
              "    </tr>\n",
              "    <tr>\n",
              "      <th>18</th>\n",
              "      <td>65</td>\n",
              "      <td>Programação funcional</td>\n",
              "    </tr>\n",
              "    <tr>\n",
              "      <th>19</th>\n",
              "      <td>81</td>\n",
              "      <td>Boas práticas em Java</td>\n",
              "    </tr>\n",
              "    <tr>\n",
              "      <th>20</th>\n",
              "      <td>42</td>\n",
              "      <td>Orientação objetos com Java</td>\n",
              "    </tr>\n",
              "  </tbody>\n",
              "</table>\n",
              "</div>"
            ],
            "text/plain": [
              "          quantidade_de_alunos                        nome_do_curso\n",
              "Id_curso                                                           \n",
              "1                           77                Lógica de programação\n",
              "2                            4                        Java para Web\n",
              "3                           32                          C# para Web\n",
              "4                           68                        Ruby on Rails\n",
              "5                           17                     Cursos de Python\n",
              "6                           36                        PHP com MySql\n",
              "7                           38                        .NET para web\n",
              "8                           16           Novas integrações com Java\n",
              "9                           41                         TDD com Java\n",
              "10                          67                  Código limpo com C#\n",
              "11                          56  Preparatório para certificação Java\n",
              "12                          87                      Hardware básico\n",
              "13                          17                Persistência com .NET\n",
              "15                          23                     Análise de dados\n",
              "16                          74                   Estatística básica\n",
              "17                          13                  Internet das coisas\n",
              "18                          65                Programação funcional\n",
              "19                          81                Boas práticas em Java\n",
              "20                          42          Orientação objetos com Java"
            ]
          },
          "metadata": {},
          "execution_count": 42
        }
      ]
    },
    {
      "cell_type": "code",
      "metadata": {
        "colab": {
          "base_uri": "https://localhost:8080/",
          "height": 0
        },
        "id": "RR04Nj8fmp5O",
        "outputId": "d01e41fd-1458-4bd5-c1af-3621cf6342cb"
      },
      "source": [
        "nomes.sample(3)"
      ],
      "execution_count": 43,
      "outputs": [
        {
          "output_type": "execute_result",
          "data": {
            "text/html": [
              "<div>\n",
              "<style scoped>\n",
              "    .dataframe tbody tr th:only-of-type {\n",
              "        vertical-align: middle;\n",
              "    }\n",
              "\n",
              "    .dataframe tbody tr th {\n",
              "        vertical-align: top;\n",
              "    }\n",
              "\n",
              "    .dataframe thead th {\n",
              "        text-align: right;\n",
              "    }\n",
              "</style>\n",
              "<table border=\"1\" class=\"dataframe\">\n",
              "  <thead>\n",
              "    <tr style=\"text-align: right;\">\n",
              "      <th></th>\n",
              "      <th>nome</th>\n",
              "      <th>Id_aluno</th>\n",
              "      <th>dominio</th>\n",
              "      <th>email</th>\n",
              "      <th>matriculas</th>\n",
              "    </tr>\n",
              "  </thead>\n",
              "  <tbody>\n",
              "    <tr>\n",
              "      <th>9</th>\n",
              "      <td>ALINE</td>\n",
              "      <td>92</td>\n",
              "      <td>@dominiodoemmail.com.br</td>\n",
              "      <td>aline@dominiodoemmail.com.br</td>\n",
              "      <td>1</td>\n",
              "    </tr>\n",
              "    <tr>\n",
              "      <th>14</th>\n",
              "      <td>MARCELO</td>\n",
              "      <td>138</td>\n",
              "      <td>@dominiodoemmail.com.br</td>\n",
              "      <td>marcelo@dominiodoemmail.com.br</td>\n",
              "      <td>4</td>\n",
              "    </tr>\n",
              "    <tr>\n",
              "      <th>141</th>\n",
              "      <td>ORLANDO</td>\n",
              "      <td>159</td>\n",
              "      <td>@servicodoemail.com</td>\n",
              "      <td>orlando@servicodoemail.com</td>\n",
              "      <td>8</td>\n",
              "    </tr>\n",
              "  </tbody>\n",
              "</table>\n",
              "</div>"
            ],
            "text/plain": [
              "        nome  Id_aluno  ...                           email matriculas\n",
              "9      ALINE        92  ...    aline@dominiodoemmail.com.br          1\n",
              "14   MARCELO       138  ...  marcelo@dominiodoemmail.com.br          4\n",
              "141  ORLANDO       159  ...      orlando@servicodoemail.com          8\n",
              "\n",
              "[3 rows x 5 columns]"
            ]
          },
          "metadata": {},
          "execution_count": 43
        }
      ]
    },
    {
      "cell_type": "code",
      "metadata": {
        "colab": {
          "base_uri": "https://localhost:8080/",
          "height": 0
        },
        "id": "sord61c-nLJW",
        "outputId": "5b767867-9567-4e37-f41e-9670ca0aac7d"
      },
      "source": [
        "cursos.head(5)"
      ],
      "execution_count": 44,
      "outputs": [
        {
          "output_type": "execute_result",
          "data": {
            "text/html": [
              "<div>\n",
              "<style scoped>\n",
              "    .dataframe tbody tr th:only-of-type {\n",
              "        vertical-align: middle;\n",
              "    }\n",
              "\n",
              "    .dataframe tbody tr th {\n",
              "        vertical-align: top;\n",
              "    }\n",
              "\n",
              "    .dataframe thead th {\n",
              "        text-align: right;\n",
              "    }\n",
              "</style>\n",
              "<table border=\"1\" class=\"dataframe\">\n",
              "  <thead>\n",
              "    <tr style=\"text-align: right;\">\n",
              "      <th></th>\n",
              "      <th>nome_do_curso</th>\n",
              "    </tr>\n",
              "    <tr>\n",
              "      <th>Id</th>\n",
              "      <th></th>\n",
              "    </tr>\n",
              "  </thead>\n",
              "  <tbody>\n",
              "    <tr>\n",
              "      <th>1</th>\n",
              "      <td>Lógica de programação</td>\n",
              "    </tr>\n",
              "    <tr>\n",
              "      <th>2</th>\n",
              "      <td>Java para Web</td>\n",
              "    </tr>\n",
              "    <tr>\n",
              "      <th>3</th>\n",
              "      <td>C# para Web</td>\n",
              "    </tr>\n",
              "    <tr>\n",
              "      <th>4</th>\n",
              "      <td>Ruby on Rails</td>\n",
              "    </tr>\n",
              "    <tr>\n",
              "      <th>5</th>\n",
              "      <td>Cursos de Python</td>\n",
              "    </tr>\n",
              "  </tbody>\n",
              "</table>\n",
              "</div>"
            ],
            "text/plain": [
              "            nome_do_curso\n",
              "Id                       \n",
              "1   Lógica de programação\n",
              "2           Java para Web\n",
              "3             C# para Web\n",
              "4           Ruby on Rails\n",
              "5        Cursos de Python"
            ]
          },
          "metadata": {},
          "execution_count": 44
        }
      ]
    },
    {
      "cell_type": "code",
      "metadata": {
        "colab": {
          "base_uri": "https://localhost:8080/",
          "height": 0
        },
        "id": "a6qubIv1nMg0",
        "outputId": "e335063f-a5b6-420d-ac58-0ac80cdd5940"
      },
      "source": [
        "matriculas.head()"
      ],
      "execution_count": 45,
      "outputs": [
        {
          "output_type": "execute_result",
          "data": {
            "text/html": [
              "<div>\n",
              "<style scoped>\n",
              "    .dataframe tbody tr th:only-of-type {\n",
              "        vertical-align: middle;\n",
              "    }\n",
              "\n",
              "    .dataframe tbody tr th {\n",
              "        vertical-align: top;\n",
              "    }\n",
              "\n",
              "    .dataframe thead th {\n",
              "        text-align: right;\n",
              "    }\n",
              "</style>\n",
              "<table border=\"1\" class=\"dataframe\">\n",
              "  <thead>\n",
              "    <tr style=\"text-align: right;\">\n",
              "      <th></th>\n",
              "      <th>Id_aluno</th>\n",
              "      <th>Id_curso</th>\n",
              "    </tr>\n",
              "  </thead>\n",
              "  <tbody>\n",
              "    <tr>\n",
              "      <th>0</th>\n",
              "      <td>235</td>\n",
              "      <td>19</td>\n",
              "    </tr>\n",
              "    <tr>\n",
              "      <th>1</th>\n",
              "      <td>43</td>\n",
              "      <td>6</td>\n",
              "    </tr>\n",
              "    <tr>\n",
              "      <th>2</th>\n",
              "      <td>304</td>\n",
              "      <td>16</td>\n",
              "    </tr>\n",
              "    <tr>\n",
              "      <th>3</th>\n",
              "      <td>304</td>\n",
              "      <td>18</td>\n",
              "    </tr>\n",
              "    <tr>\n",
              "      <th>4</th>\n",
              "      <td>304</td>\n",
              "      <td>11</td>\n",
              "    </tr>\n",
              "  </tbody>\n",
              "</table>\n",
              "</div>"
            ],
            "text/plain": [
              "   Id_aluno  Id_curso\n",
              "0       235        19\n",
              "1        43         6\n",
              "2       304        16\n",
              "3       304        18\n",
              "4       304        11"
            ]
          },
          "metadata": {},
          "execution_count": 45
        }
      ]
    },
    {
      "cell_type": "code",
      "metadata": {
        "id": "CRgtX1-vnQoJ"
      },
      "source": [
        "matriculas_por_curso = matriculas.groupby('Id_curso').count().join(cursos['nome_do_curso']).rename(columns={'Id_aluno':'quantidade_de_alunos'})"
      ],
      "execution_count": 46,
      "outputs": []
    },
    {
      "cell_type": "code",
      "metadata": {
        "id": "Rh5ycByEnaWE",
        "colab": {
          "base_uri": "https://localhost:8080/",
          "height": 0
        },
        "outputId": "7f82df5c-c7a2-494f-9ac5-f29dd535812d"
      },
      "source": [
        "matriculas_por_curso.head()"
      ],
      "execution_count": 47,
      "outputs": [
        {
          "output_type": "execute_result",
          "data": {
            "text/html": [
              "<div>\n",
              "<style scoped>\n",
              "    .dataframe tbody tr th:only-of-type {\n",
              "        vertical-align: middle;\n",
              "    }\n",
              "\n",
              "    .dataframe tbody tr th {\n",
              "        vertical-align: top;\n",
              "    }\n",
              "\n",
              "    .dataframe thead th {\n",
              "        text-align: right;\n",
              "    }\n",
              "</style>\n",
              "<table border=\"1\" class=\"dataframe\">\n",
              "  <thead>\n",
              "    <tr style=\"text-align: right;\">\n",
              "      <th></th>\n",
              "      <th>quantidade_de_alunos</th>\n",
              "      <th>nome_do_curso</th>\n",
              "    </tr>\n",
              "    <tr>\n",
              "      <th>Id_curso</th>\n",
              "      <th></th>\n",
              "      <th></th>\n",
              "    </tr>\n",
              "  </thead>\n",
              "  <tbody>\n",
              "    <tr>\n",
              "      <th>1</th>\n",
              "      <td>77</td>\n",
              "      <td>Lógica de programação</td>\n",
              "    </tr>\n",
              "    <tr>\n",
              "      <th>2</th>\n",
              "      <td>4</td>\n",
              "      <td>Java para Web</td>\n",
              "    </tr>\n",
              "    <tr>\n",
              "      <th>3</th>\n",
              "      <td>32</td>\n",
              "      <td>C# para Web</td>\n",
              "    </tr>\n",
              "    <tr>\n",
              "      <th>4</th>\n",
              "      <td>68</td>\n",
              "      <td>Ruby on Rails</td>\n",
              "    </tr>\n",
              "    <tr>\n",
              "      <th>5</th>\n",
              "      <td>17</td>\n",
              "      <td>Cursos de Python</td>\n",
              "    </tr>\n",
              "  </tbody>\n",
              "</table>\n",
              "</div>"
            ],
            "text/plain": [
              "          quantidade_de_alunos          nome_do_curso\n",
              "Id_curso                                             \n",
              "1                           77  Lógica de programação\n",
              "2                            4          Java para Web\n",
              "3                           32            C# para Web\n",
              "4                           68          Ruby on Rails\n",
              "5                           17       Cursos de Python"
            ]
          },
          "metadata": {},
          "execution_count": 47
        }
      ]
    },
    {
      "cell_type": "code",
      "metadata": {
        "id": "X4-1f-mcnb4a"
      },
      "source": [
        ""
      ],
      "execution_count": 47,
      "outputs": []
    },
    {
      "cell_type": "markdown",
      "metadata": {
        "id": "tkq-NjHnHoOe"
      },
      "source": [
        "# Saída em diferentes formatos"
      ]
    },
    {
      "cell_type": "code",
      "metadata": {
        "colab": {
          "base_uri": "https://localhost:8080/",
          "height": 0
        },
        "id": "dhoOaOn8HueJ",
        "outputId": "0ac1b0f8-ad94-43bf-ee77-3032bd232c91"
      },
      "source": [
        "matriculas_por_curso.head()"
      ],
      "execution_count": 48,
      "outputs": [
        {
          "output_type": "execute_result",
          "data": {
            "text/html": [
              "<div>\n",
              "<style scoped>\n",
              "    .dataframe tbody tr th:only-of-type {\n",
              "        vertical-align: middle;\n",
              "    }\n",
              "\n",
              "    .dataframe tbody tr th {\n",
              "        vertical-align: top;\n",
              "    }\n",
              "\n",
              "    .dataframe thead th {\n",
              "        text-align: right;\n",
              "    }\n",
              "</style>\n",
              "<table border=\"1\" class=\"dataframe\">\n",
              "  <thead>\n",
              "    <tr style=\"text-align: right;\">\n",
              "      <th></th>\n",
              "      <th>quantidade_de_alunos</th>\n",
              "      <th>nome_do_curso</th>\n",
              "    </tr>\n",
              "    <tr>\n",
              "      <th>Id_curso</th>\n",
              "      <th></th>\n",
              "      <th></th>\n",
              "    </tr>\n",
              "  </thead>\n",
              "  <tbody>\n",
              "    <tr>\n",
              "      <th>1</th>\n",
              "      <td>77</td>\n",
              "      <td>Lógica de programação</td>\n",
              "    </tr>\n",
              "    <tr>\n",
              "      <th>2</th>\n",
              "      <td>4</td>\n",
              "      <td>Java para Web</td>\n",
              "    </tr>\n",
              "    <tr>\n",
              "      <th>3</th>\n",
              "      <td>32</td>\n",
              "      <td>C# para Web</td>\n",
              "    </tr>\n",
              "    <tr>\n",
              "      <th>4</th>\n",
              "      <td>68</td>\n",
              "      <td>Ruby on Rails</td>\n",
              "    </tr>\n",
              "    <tr>\n",
              "      <th>5</th>\n",
              "      <td>17</td>\n",
              "      <td>Cursos de Python</td>\n",
              "    </tr>\n",
              "  </tbody>\n",
              "</table>\n",
              "</div>"
            ],
            "text/plain": [
              "          quantidade_de_alunos          nome_do_curso\n",
              "Id_curso                                             \n",
              "1                           77  Lógica de programação\n",
              "2                            4          Java para Web\n",
              "3                           32            C# para Web\n",
              "4                           68          Ruby on Rails\n",
              "5                           17       Cursos de Python"
            ]
          },
          "metadata": {},
          "execution_count": 48
        }
      ]
    },
    {
      "cell_type": "code",
      "metadata": {
        "id": "WVXKyBSeHxAA"
      },
      "source": [
        "matriculas_por_curso.to_csv('matriculas_por_curso.csv')"
      ],
      "execution_count": 49,
      "outputs": []
    },
    {
      "cell_type": "code",
      "metadata": {
        "colab": {
          "base_uri": "https://localhost:8080/",
          "height": 0
        },
        "id": "aRPFPHJxIDup",
        "outputId": "45f4caad-bada-4155-e846-2680d719258a"
      },
      "source": [
        "pd.read_csv('matriculas_por_curso.csv')"
      ],
      "execution_count": 50,
      "outputs": [
        {
          "output_type": "execute_result",
          "data": {
            "text/html": [
              "<div>\n",
              "<style scoped>\n",
              "    .dataframe tbody tr th:only-of-type {\n",
              "        vertical-align: middle;\n",
              "    }\n",
              "\n",
              "    .dataframe tbody tr th {\n",
              "        vertical-align: top;\n",
              "    }\n",
              "\n",
              "    .dataframe thead th {\n",
              "        text-align: right;\n",
              "    }\n",
              "</style>\n",
              "<table border=\"1\" class=\"dataframe\">\n",
              "  <thead>\n",
              "    <tr style=\"text-align: right;\">\n",
              "      <th></th>\n",
              "      <th>Id_curso</th>\n",
              "      <th>quantidade_de_alunos</th>\n",
              "      <th>nome_do_curso</th>\n",
              "    </tr>\n",
              "  </thead>\n",
              "  <tbody>\n",
              "    <tr>\n",
              "      <th>0</th>\n",
              "      <td>1</td>\n",
              "      <td>77</td>\n",
              "      <td>Lógica de programação</td>\n",
              "    </tr>\n",
              "    <tr>\n",
              "      <th>1</th>\n",
              "      <td>2</td>\n",
              "      <td>4</td>\n",
              "      <td>Java para Web</td>\n",
              "    </tr>\n",
              "    <tr>\n",
              "      <th>2</th>\n",
              "      <td>3</td>\n",
              "      <td>32</td>\n",
              "      <td>C# para Web</td>\n",
              "    </tr>\n",
              "    <tr>\n",
              "      <th>3</th>\n",
              "      <td>4</td>\n",
              "      <td>68</td>\n",
              "      <td>Ruby on Rails</td>\n",
              "    </tr>\n",
              "    <tr>\n",
              "      <th>4</th>\n",
              "      <td>5</td>\n",
              "      <td>17</td>\n",
              "      <td>Cursos de Python</td>\n",
              "    </tr>\n",
              "    <tr>\n",
              "      <th>5</th>\n",
              "      <td>6</td>\n",
              "      <td>36</td>\n",
              "      <td>PHP com MySql</td>\n",
              "    </tr>\n",
              "    <tr>\n",
              "      <th>6</th>\n",
              "      <td>7</td>\n",
              "      <td>38</td>\n",
              "      <td>.NET para web</td>\n",
              "    </tr>\n",
              "    <tr>\n",
              "      <th>7</th>\n",
              "      <td>8</td>\n",
              "      <td>16</td>\n",
              "      <td>Novas integrações com Java</td>\n",
              "    </tr>\n",
              "    <tr>\n",
              "      <th>8</th>\n",
              "      <td>9</td>\n",
              "      <td>41</td>\n",
              "      <td>TDD com Java</td>\n",
              "    </tr>\n",
              "    <tr>\n",
              "      <th>9</th>\n",
              "      <td>10</td>\n",
              "      <td>67</td>\n",
              "      <td>Código limpo com C#</td>\n",
              "    </tr>\n",
              "    <tr>\n",
              "      <th>10</th>\n",
              "      <td>11</td>\n",
              "      <td>56</td>\n",
              "      <td>Preparatório para certificação Java</td>\n",
              "    </tr>\n",
              "    <tr>\n",
              "      <th>11</th>\n",
              "      <td>12</td>\n",
              "      <td>87</td>\n",
              "      <td>Hardware básico</td>\n",
              "    </tr>\n",
              "    <tr>\n",
              "      <th>12</th>\n",
              "      <td>13</td>\n",
              "      <td>17</td>\n",
              "      <td>Persistência com .NET</td>\n",
              "    </tr>\n",
              "    <tr>\n",
              "      <th>13</th>\n",
              "      <td>15</td>\n",
              "      <td>23</td>\n",
              "      <td>Análise de dados</td>\n",
              "    </tr>\n",
              "    <tr>\n",
              "      <th>14</th>\n",
              "      <td>16</td>\n",
              "      <td>74</td>\n",
              "      <td>Estatística básica</td>\n",
              "    </tr>\n",
              "    <tr>\n",
              "      <th>15</th>\n",
              "      <td>17</td>\n",
              "      <td>13</td>\n",
              "      <td>Internet das coisas</td>\n",
              "    </tr>\n",
              "    <tr>\n",
              "      <th>16</th>\n",
              "      <td>18</td>\n",
              "      <td>65</td>\n",
              "      <td>Programação funcional</td>\n",
              "    </tr>\n",
              "    <tr>\n",
              "      <th>17</th>\n",
              "      <td>19</td>\n",
              "      <td>81</td>\n",
              "      <td>Boas práticas em Java</td>\n",
              "    </tr>\n",
              "    <tr>\n",
              "      <th>18</th>\n",
              "      <td>20</td>\n",
              "      <td>42</td>\n",
              "      <td>Orientação objetos com Java</td>\n",
              "    </tr>\n",
              "  </tbody>\n",
              "</table>\n",
              "</div>"
            ],
            "text/plain": [
              "    Id_curso  quantidade_de_alunos                        nome_do_curso\n",
              "0          1                    77                Lógica de programação\n",
              "1          2                     4                        Java para Web\n",
              "2          3                    32                          C# para Web\n",
              "3          4                    68                        Ruby on Rails\n",
              "4          5                    17                     Cursos de Python\n",
              "5          6                    36                        PHP com MySql\n",
              "6          7                    38                        .NET para web\n",
              "7          8                    16           Novas integrações com Java\n",
              "8          9                    41                         TDD com Java\n",
              "9         10                    67                  Código limpo com C#\n",
              "10        11                    56  Preparatório para certificação Java\n",
              "11        12                    87                      Hardware básico\n",
              "12        13                    17                Persistência com .NET\n",
              "13        15                    23                     Análise de dados\n",
              "14        16                    74                   Estatística básica\n",
              "15        17                    13                  Internet das coisas\n",
              "16        18                    65                Programação funcional\n",
              "17        19                    81                Boas práticas em Java\n",
              "18        20                    42          Orientação objetos com Java"
            ]
          },
          "metadata": {},
          "execution_count": 50
        }
      ]
    },
    {
      "cell_type": "code",
      "metadata": {
        "id": "BKuxs0N-IPkD"
      },
      "source": [
        "matriculas_json = matriculas_por_curso.to_json()"
      ],
      "execution_count": 51,
      "outputs": []
    },
    {
      "cell_type": "code",
      "metadata": {
        "colab": {
          "base_uri": "https://localhost:8080/",
          "height": 0
        },
        "id": "FA448VhCIbjp",
        "outputId": "50e64054-3064-401d-93a6-5906a9fbb2f1"
      },
      "source": [
        "matriculas_json"
      ],
      "execution_count": 52,
      "outputs": [
        {
          "output_type": "execute_result",
          "data": {
            "application/vnd.google.colaboratory.intrinsic+json": {
              "type": "string"
            },
            "text/plain": [
              "'{\"quantidade_de_alunos\":{\"1\":77,\"2\":4,\"3\":32,\"4\":68,\"5\":17,\"6\":36,\"7\":38,\"8\":16,\"9\":41,\"10\":67,\"11\":56,\"12\":87,\"13\":17,\"15\":23,\"16\":74,\"17\":13,\"18\":65,\"19\":81,\"20\":42},\"nome_do_curso\":{\"1\":\"L\\\\u00f3gica de programa\\\\u00e7\\\\u00e3o\",\"2\":\"Java para Web\",\"3\":\"C# para Web\",\"4\":\"Ruby on Rails\",\"5\":\"Cursos de Python\",\"6\":\"PHP com MySql\",\"7\":\".NET para web\",\"8\":\"Novas integra\\\\u00e7\\\\u00f5es com Java\",\"9\":\"TDD com Java\",\"10\":\"C\\\\u00f3digo limpo com C#\",\"11\":\"Preparat\\\\u00f3rio para certifica\\\\u00e7\\\\u00e3o Java\",\"12\":\"Hardware b\\\\u00e1sico\",\"13\":\"Persist\\\\u00eancia com .NET\",\"15\":\"An\\\\u00e1lise de dados\",\"16\":\"Estat\\\\u00edstica b\\\\u00e1sica\",\"17\":\"Internet das coisas\",\"18\":\"Programa\\\\u00e7\\\\u00e3o funcional\",\"19\":\"Boas pr\\\\u00e1ticas em Java\",\"20\":\"Orienta\\\\u00e7\\\\u00e3o objetos com Java\"}}'"
            ]
          },
          "metadata": {},
          "execution_count": 52
        }
      ]
    },
    {
      "cell_type": "code",
      "metadata": {
        "id": "QnrxIG4eIh4g"
      },
      "source": [
        "matriculas_html = matriculas_por_curso.to_html()"
      ],
      "execution_count": 53,
      "outputs": []
    },
    {
      "cell_type": "code",
      "metadata": {
        "colab": {
          "base_uri": "https://localhost:8080/"
        },
        "id": "JfL-aN2MIzTG",
        "outputId": "58c26375-a15a-4369-939c-34a70f108948"
      },
      "source": [
        "print(matriculas_html)"
      ],
      "execution_count": 54,
      "outputs": [
        {
          "output_type": "stream",
          "name": "stdout",
          "text": [
            "<table border=\"1\" class=\"dataframe\">\n",
            "  <thead>\n",
            "    <tr style=\"text-align: right;\">\n",
            "      <th></th>\n",
            "      <th>quantidade_de_alunos</th>\n",
            "      <th>nome_do_curso</th>\n",
            "    </tr>\n",
            "    <tr>\n",
            "      <th>Id_curso</th>\n",
            "      <th></th>\n",
            "      <th></th>\n",
            "    </tr>\n",
            "  </thead>\n",
            "  <tbody>\n",
            "    <tr>\n",
            "      <th>1</th>\n",
            "      <td>77</td>\n",
            "      <td>Lógica de programação</td>\n",
            "    </tr>\n",
            "    <tr>\n",
            "      <th>2</th>\n",
            "      <td>4</td>\n",
            "      <td>Java para Web</td>\n",
            "    </tr>\n",
            "    <tr>\n",
            "      <th>3</th>\n",
            "      <td>32</td>\n",
            "      <td>C# para Web</td>\n",
            "    </tr>\n",
            "    <tr>\n",
            "      <th>4</th>\n",
            "      <td>68</td>\n",
            "      <td>Ruby on Rails</td>\n",
            "    </tr>\n",
            "    <tr>\n",
            "      <th>5</th>\n",
            "      <td>17</td>\n",
            "      <td>Cursos de Python</td>\n",
            "    </tr>\n",
            "    <tr>\n",
            "      <th>6</th>\n",
            "      <td>36</td>\n",
            "      <td>PHP com MySql</td>\n",
            "    </tr>\n",
            "    <tr>\n",
            "      <th>7</th>\n",
            "      <td>38</td>\n",
            "      <td>.NET para web</td>\n",
            "    </tr>\n",
            "    <tr>\n",
            "      <th>8</th>\n",
            "      <td>16</td>\n",
            "      <td>Novas integrações com Java</td>\n",
            "    </tr>\n",
            "    <tr>\n",
            "      <th>9</th>\n",
            "      <td>41</td>\n",
            "      <td>TDD com Java</td>\n",
            "    </tr>\n",
            "    <tr>\n",
            "      <th>10</th>\n",
            "      <td>67</td>\n",
            "      <td>Código limpo com C#</td>\n",
            "    </tr>\n",
            "    <tr>\n",
            "      <th>11</th>\n",
            "      <td>56</td>\n",
            "      <td>Preparatório para certificação Java</td>\n",
            "    </tr>\n",
            "    <tr>\n",
            "      <th>12</th>\n",
            "      <td>87</td>\n",
            "      <td>Hardware básico</td>\n",
            "    </tr>\n",
            "    <tr>\n",
            "      <th>13</th>\n",
            "      <td>17</td>\n",
            "      <td>Persistência com .NET</td>\n",
            "    </tr>\n",
            "    <tr>\n",
            "      <th>15</th>\n",
            "      <td>23</td>\n",
            "      <td>Análise de dados</td>\n",
            "    </tr>\n",
            "    <tr>\n",
            "      <th>16</th>\n",
            "      <td>74</td>\n",
            "      <td>Estatística básica</td>\n",
            "    </tr>\n",
            "    <tr>\n",
            "      <th>17</th>\n",
            "      <td>13</td>\n",
            "      <td>Internet das coisas</td>\n",
            "    </tr>\n",
            "    <tr>\n",
            "      <th>18</th>\n",
            "      <td>65</td>\n",
            "      <td>Programação funcional</td>\n",
            "    </tr>\n",
            "    <tr>\n",
            "      <th>19</th>\n",
            "      <td>81</td>\n",
            "      <td>Boas práticas em Java</td>\n",
            "    </tr>\n",
            "    <tr>\n",
            "      <th>20</th>\n",
            "      <td>42</td>\n",
            "      <td>Orientação objetos com Java</td>\n",
            "    </tr>\n",
            "  </tbody>\n",
            "</table>\n"
          ]
        }
      ]
    },
    {
      "cell_type": "code",
      "metadata": {
        "id": "aRMq7iOfJETK"
      },
      "source": [
        ""
      ],
      "execution_count": 54,
      "outputs": []
    },
    {
      "cell_type": "markdown",
      "metadata": {
        "id": "Tpxkl0pYMhGO"
      },
      "source": [
        "# Criando Banco SQL"
      ]
    },
    {
      "cell_type": "code",
      "metadata": {
        "colab": {
          "base_uri": "https://localhost:8080/"
        },
        "id": "eZRRG4FoMkW5",
        "outputId": "52596ab0-4533-4101-fc71-2557f6b2d1a2"
      },
      "source": [
        "!pip install sqlalchemy"
      ],
      "execution_count": 55,
      "outputs": [
        {
          "output_type": "stream",
          "name": "stdout",
          "text": [
            "Requirement already satisfied: sqlalchemy in /usr/local/lib/python3.7/dist-packages (1.4.25)\n",
            "Requirement already satisfied: importlib-metadata in /usr/local/lib/python3.7/dist-packages (from sqlalchemy) (4.8.1)\n",
            "Requirement already satisfied: greenlet!=0.4.17 in /usr/local/lib/python3.7/dist-packages (from sqlalchemy) (1.1.2)\n",
            "Requirement already satisfied: zipp>=0.5 in /usr/local/lib/python3.7/dist-packages (from importlib-metadata->sqlalchemy) (3.6.0)\n",
            "Requirement already satisfied: typing-extensions>=3.6.4 in /usr/local/lib/python3.7/dist-packages (from importlib-metadata->sqlalchemy) (3.7.4.3)\n"
          ]
        }
      ]
    },
    {
      "cell_type": "code",
      "metadata": {
        "id": "6Mrs0hLeMwRO"
      },
      "source": [
        "from sqlalchemy import create_engine, MetaData, Table"
      ],
      "execution_count": 56,
      "outputs": []
    },
    {
      "cell_type": "code",
      "metadata": {
        "id": "E0-6oUGqM15k"
      },
      "source": [
        "engine = create_engine('sqlite:///:memory:')"
      ],
      "execution_count": 57,
      "outputs": []
    },
    {
      "cell_type": "code",
      "metadata": {
        "colab": {
          "base_uri": "https://localhost:8080/"
        },
        "id": "NFeuhjQFNRHI",
        "outputId": "100dbb59-2873-4460-866c-ec60eeb3641e"
      },
      "source": [
        "engine"
      ],
      "execution_count": 58,
      "outputs": [
        {
          "output_type": "execute_result",
          "data": {
            "text/plain": [
              "Engine(sqlite:///:memory:)"
            ]
          },
          "metadata": {},
          "execution_count": 58
        }
      ]
    },
    {
      "cell_type": "code",
      "metadata": {
        "colab": {
          "base_uri": "https://localhost:8080/"
        },
        "id": "9zPB4h6xNSAH",
        "outputId": "7bb4ac69-a506-4306-b238-adff578e5154"
      },
      "source": [
        "type(engine)"
      ],
      "execution_count": 59,
      "outputs": [
        {
          "output_type": "execute_result",
          "data": {
            "text/plain": [
              "sqlalchemy.engine.base.Engine"
            ]
          },
          "metadata": {},
          "execution_count": 59
        }
      ]
    },
    {
      "cell_type": "code",
      "metadata": {
        "id": "CM1fJLiFNUOt"
      },
      "source": [
        "matriculas_por_curso.to_sql('matriculas', engine)"
      ],
      "execution_count": 60,
      "outputs": []
    },
    {
      "cell_type": "code",
      "metadata": {
        "colab": {
          "base_uri": "https://localhost:8080/"
        },
        "id": "3s9EnNTJNkgK",
        "outputId": "a9be0964-e9b3-4ee0-9ffd-bc63778f81c8"
      },
      "source": [
        "print(engine.table_names())"
      ],
      "execution_count": 61,
      "outputs": [
        {
          "output_type": "stream",
          "name": "stdout",
          "text": [
            "['matriculas']\n"
          ]
        },
        {
          "output_type": "stream",
          "name": "stderr",
          "text": [
            "/usr/local/lib/python3.7/dist-packages/ipykernel_launcher.py:1: SADeprecationWarning: The Engine.table_names() method is deprecated and will be removed in a future release.  Please refer to Inspector.get_table_names(). (deprecated since: 1.4)\n",
            "  \"\"\"Entry point for launching an IPython kernel.\n"
          ]
        }
      ]
    },
    {
      "cell_type": "markdown",
      "metadata": {
        "id": "JI-knh68N1rw"
      },
      "source": [
        "# Buscando do Banco SQL"
      ]
    },
    {
      "cell_type": "code",
      "metadata": {
        "id": "I12Y3IZrN7uj"
      },
      "source": [
        "query = 'select * from matriculas where quantidade_de_alunos < 20'"
      ],
      "execution_count": 62,
      "outputs": []
    },
    {
      "cell_type": "code",
      "metadata": {
        "colab": {
          "base_uri": "https://localhost:8080/",
          "height": 0
        },
        "id": "f_Md0aylOCVA",
        "outputId": "3ff56d99-d66b-49e1-dedd-d5d596314fa7"
      },
      "source": [
        "pd.read_sql(query, engine)"
      ],
      "execution_count": 63,
      "outputs": [
        {
          "output_type": "execute_result",
          "data": {
            "text/html": [
              "<div>\n",
              "<style scoped>\n",
              "    .dataframe tbody tr th:only-of-type {\n",
              "        vertical-align: middle;\n",
              "    }\n",
              "\n",
              "    .dataframe tbody tr th {\n",
              "        vertical-align: top;\n",
              "    }\n",
              "\n",
              "    .dataframe thead th {\n",
              "        text-align: right;\n",
              "    }\n",
              "</style>\n",
              "<table border=\"1\" class=\"dataframe\">\n",
              "  <thead>\n",
              "    <tr style=\"text-align: right;\">\n",
              "      <th></th>\n",
              "      <th>Id_curso</th>\n",
              "      <th>quantidade_de_alunos</th>\n",
              "      <th>nome_do_curso</th>\n",
              "    </tr>\n",
              "  </thead>\n",
              "  <tbody>\n",
              "    <tr>\n",
              "      <th>0</th>\n",
              "      <td>2</td>\n",
              "      <td>4</td>\n",
              "      <td>Java para Web</td>\n",
              "    </tr>\n",
              "    <tr>\n",
              "      <th>1</th>\n",
              "      <td>5</td>\n",
              "      <td>17</td>\n",
              "      <td>Cursos de Python</td>\n",
              "    </tr>\n",
              "    <tr>\n",
              "      <th>2</th>\n",
              "      <td>8</td>\n",
              "      <td>16</td>\n",
              "      <td>Novas integrações com Java</td>\n",
              "    </tr>\n",
              "    <tr>\n",
              "      <th>3</th>\n",
              "      <td>13</td>\n",
              "      <td>17</td>\n",
              "      <td>Persistência com .NET</td>\n",
              "    </tr>\n",
              "    <tr>\n",
              "      <th>4</th>\n",
              "      <td>17</td>\n",
              "      <td>13</td>\n",
              "      <td>Internet das coisas</td>\n",
              "    </tr>\n",
              "  </tbody>\n",
              "</table>\n",
              "</div>"
            ],
            "text/plain": [
              "   Id_curso  quantidade_de_alunos               nome_do_curso\n",
              "0         2                     4               Java para Web\n",
              "1         5                    17            Cursos de Python\n",
              "2         8                    16  Novas integrações com Java\n",
              "3        13                    17       Persistência com .NET\n",
              "4        17                    13         Internet das coisas"
            ]
          },
          "metadata": {},
          "execution_count": 63
        }
      ]
    },
    {
      "cell_type": "code",
      "metadata": {
        "colab": {
          "base_uri": "https://localhost:8080/",
          "height": 0
        },
        "id": "c8HB8jaiOKvJ",
        "outputId": "cfa75df6-29ce-48f7-b47c-2b16d3f65a81"
      },
      "source": [
        "pd.read_sql_table('matriculas', engine, columns=['nome_do_curso', 'quantidade_de_alunos'])"
      ],
      "execution_count": 64,
      "outputs": [
        {
          "output_type": "execute_result",
          "data": {
            "text/html": [
              "<div>\n",
              "<style scoped>\n",
              "    .dataframe tbody tr th:only-of-type {\n",
              "        vertical-align: middle;\n",
              "    }\n",
              "\n",
              "    .dataframe tbody tr th {\n",
              "        vertical-align: top;\n",
              "    }\n",
              "\n",
              "    .dataframe thead th {\n",
              "        text-align: right;\n",
              "    }\n",
              "</style>\n",
              "<table border=\"1\" class=\"dataframe\">\n",
              "  <thead>\n",
              "    <tr style=\"text-align: right;\">\n",
              "      <th></th>\n",
              "      <th>nome_do_curso</th>\n",
              "      <th>quantidade_de_alunos</th>\n",
              "    </tr>\n",
              "  </thead>\n",
              "  <tbody>\n",
              "    <tr>\n",
              "      <th>0</th>\n",
              "      <td>Lógica de programação</td>\n",
              "      <td>77</td>\n",
              "    </tr>\n",
              "    <tr>\n",
              "      <th>1</th>\n",
              "      <td>Java para Web</td>\n",
              "      <td>4</td>\n",
              "    </tr>\n",
              "    <tr>\n",
              "      <th>2</th>\n",
              "      <td>C# para Web</td>\n",
              "      <td>32</td>\n",
              "    </tr>\n",
              "    <tr>\n",
              "      <th>3</th>\n",
              "      <td>Ruby on Rails</td>\n",
              "      <td>68</td>\n",
              "    </tr>\n",
              "    <tr>\n",
              "      <th>4</th>\n",
              "      <td>Cursos de Python</td>\n",
              "      <td>17</td>\n",
              "    </tr>\n",
              "    <tr>\n",
              "      <th>5</th>\n",
              "      <td>PHP com MySql</td>\n",
              "      <td>36</td>\n",
              "    </tr>\n",
              "    <tr>\n",
              "      <th>6</th>\n",
              "      <td>.NET para web</td>\n",
              "      <td>38</td>\n",
              "    </tr>\n",
              "    <tr>\n",
              "      <th>7</th>\n",
              "      <td>Novas integrações com Java</td>\n",
              "      <td>16</td>\n",
              "    </tr>\n",
              "    <tr>\n",
              "      <th>8</th>\n",
              "      <td>TDD com Java</td>\n",
              "      <td>41</td>\n",
              "    </tr>\n",
              "    <tr>\n",
              "      <th>9</th>\n",
              "      <td>Código limpo com C#</td>\n",
              "      <td>67</td>\n",
              "    </tr>\n",
              "    <tr>\n",
              "      <th>10</th>\n",
              "      <td>Preparatório para certificação Java</td>\n",
              "      <td>56</td>\n",
              "    </tr>\n",
              "    <tr>\n",
              "      <th>11</th>\n",
              "      <td>Hardware básico</td>\n",
              "      <td>87</td>\n",
              "    </tr>\n",
              "    <tr>\n",
              "      <th>12</th>\n",
              "      <td>Persistência com .NET</td>\n",
              "      <td>17</td>\n",
              "    </tr>\n",
              "    <tr>\n",
              "      <th>13</th>\n",
              "      <td>Análise de dados</td>\n",
              "      <td>23</td>\n",
              "    </tr>\n",
              "    <tr>\n",
              "      <th>14</th>\n",
              "      <td>Estatística básica</td>\n",
              "      <td>74</td>\n",
              "    </tr>\n",
              "    <tr>\n",
              "      <th>15</th>\n",
              "      <td>Internet das coisas</td>\n",
              "      <td>13</td>\n",
              "    </tr>\n",
              "    <tr>\n",
              "      <th>16</th>\n",
              "      <td>Programação funcional</td>\n",
              "      <td>65</td>\n",
              "    </tr>\n",
              "    <tr>\n",
              "      <th>17</th>\n",
              "      <td>Boas práticas em Java</td>\n",
              "      <td>81</td>\n",
              "    </tr>\n",
              "    <tr>\n",
              "      <th>18</th>\n",
              "      <td>Orientação objetos com Java</td>\n",
              "      <td>42</td>\n",
              "    </tr>\n",
              "  </tbody>\n",
              "</table>\n",
              "</div>"
            ],
            "text/plain": [
              "                          nome_do_curso  quantidade_de_alunos\n",
              "0                 Lógica de programação                    77\n",
              "1                         Java para Web                     4\n",
              "2                           C# para Web                    32\n",
              "3                         Ruby on Rails                    68\n",
              "4                      Cursos de Python                    17\n",
              "5                         PHP com MySql                    36\n",
              "6                         .NET para web                    38\n",
              "7            Novas integrações com Java                    16\n",
              "8                          TDD com Java                    41\n",
              "9                   Código limpo com C#                    67\n",
              "10  Preparatório para certificação Java                    56\n",
              "11                      Hardware básico                    87\n",
              "12                Persistência com .NET                    17\n",
              "13                     Análise de dados                    23\n",
              "14                   Estatística básica                    74\n",
              "15                  Internet das coisas                    13\n",
              "16                Programação funcional                    65\n",
              "17                Boas práticas em Java                    81\n",
              "18          Orientação objetos com Java                    42"
            ]
          },
          "metadata": {},
          "execution_count": 64
        }
      ]
    },
    {
      "cell_type": "code",
      "metadata": {
        "id": "yqm-2fmaOf28"
      },
      "source": [
        "muitas_matriculas = pd.read_sql_table('matriculas', engine, columns=['nome_do_curso', 'quantidade_de_alunos'])\n"
      ],
      "execution_count": 65,
      "outputs": []
    },
    {
      "cell_type": "code",
      "metadata": {
        "colab": {
          "base_uri": "https://localhost:8080/",
          "height": 0
        },
        "id": "7pw5Aa1zOp9Q",
        "outputId": "bc84215d-4eae-403d-b671-bb4e38447fe0"
      },
      "source": [
        "muitas_matriculas = muitas_matriculas.query('quantidade_de_alunos > 80')\n",
        "muitas_matriculas"
      ],
      "execution_count": 66,
      "outputs": [
        {
          "output_type": "execute_result",
          "data": {
            "text/html": [
              "<div>\n",
              "<style scoped>\n",
              "    .dataframe tbody tr th:only-of-type {\n",
              "        vertical-align: middle;\n",
              "    }\n",
              "\n",
              "    .dataframe tbody tr th {\n",
              "        vertical-align: top;\n",
              "    }\n",
              "\n",
              "    .dataframe thead th {\n",
              "        text-align: right;\n",
              "    }\n",
              "</style>\n",
              "<table border=\"1\" class=\"dataframe\">\n",
              "  <thead>\n",
              "    <tr style=\"text-align: right;\">\n",
              "      <th></th>\n",
              "      <th>nome_do_curso</th>\n",
              "      <th>quantidade_de_alunos</th>\n",
              "    </tr>\n",
              "  </thead>\n",
              "  <tbody>\n",
              "    <tr>\n",
              "      <th>11</th>\n",
              "      <td>Hardware básico</td>\n",
              "      <td>87</td>\n",
              "    </tr>\n",
              "    <tr>\n",
              "      <th>17</th>\n",
              "      <td>Boas práticas em Java</td>\n",
              "      <td>81</td>\n",
              "    </tr>\n",
              "  </tbody>\n",
              "</table>\n",
              "</div>"
            ],
            "text/plain": [
              "            nome_do_curso  quantidade_de_alunos\n",
              "11        Hardware básico                    87\n",
              "17  Boas práticas em Java                    81"
            ]
          },
          "metadata": {},
          "execution_count": 66
        }
      ]
    },
    {
      "cell_type": "markdown",
      "metadata": {
        "id": "tLL8qHJ2PAr-"
      },
      "source": [
        "# Escrevendo no Banco"
      ]
    },
    {
      "cell_type": "code",
      "metadata": {
        "id": "OeGwEeOwPE7Q"
      },
      "source": [
        "muitas_matriculas.to_sql('muitas_matriculas', con=engine)"
      ],
      "execution_count": 67,
      "outputs": []
    },
    {
      "cell_type": "code",
      "metadata": {
        "id": "SaoT0ddcPKyB",
        "colab": {
          "base_uri": "https://localhost:8080/"
        },
        "outputId": "b874b677-af6d-478e-923a-629570df6940"
      },
      "source": [
        "print(engine.table_names())"
      ],
      "execution_count": 68,
      "outputs": [
        {
          "output_type": "stream",
          "name": "stderr",
          "text": [
            "/usr/local/lib/python3.7/dist-packages/ipykernel_launcher.py:1: SADeprecationWarning: The Engine.table_names() method is deprecated and will be removed in a future release.  Please refer to Inspector.get_table_names(). (deprecated since: 1.4)\n",
            "  \"\"\"Entry point for launching an IPython kernel.\n"
          ]
        },
        {
          "output_type": "stream",
          "name": "stdout",
          "text": [
            "['matriculas', 'muitas_matriculas']\n"
          ]
        }
      ]
    },
    {
      "cell_type": "markdown",
      "metadata": {
        "id": "_5rq8v50Xtzx"
      },
      "source": [
        "# Nomes dos Alunos(a) da proxima turma"
      ]
    },
    {
      "cell_type": "code",
      "metadata": {
        "colab": {
          "base_uri": "https://localhost:8080/",
          "height": 0
        },
        "id": "FgN8s9OEX0ZK",
        "outputId": "8b79ed0d-985a-4bd8-c2e3-4273c2980734"
      },
      "source": [
        "matriculas_por_curso.head(20)"
      ],
      "execution_count": 69,
      "outputs": [
        {
          "output_type": "execute_result",
          "data": {
            "text/html": [
              "<div>\n",
              "<style scoped>\n",
              "    .dataframe tbody tr th:only-of-type {\n",
              "        vertical-align: middle;\n",
              "    }\n",
              "\n",
              "    .dataframe tbody tr th {\n",
              "        vertical-align: top;\n",
              "    }\n",
              "\n",
              "    .dataframe thead th {\n",
              "        text-align: right;\n",
              "    }\n",
              "</style>\n",
              "<table border=\"1\" class=\"dataframe\">\n",
              "  <thead>\n",
              "    <tr style=\"text-align: right;\">\n",
              "      <th></th>\n",
              "      <th>quantidade_de_alunos</th>\n",
              "      <th>nome_do_curso</th>\n",
              "    </tr>\n",
              "    <tr>\n",
              "      <th>Id_curso</th>\n",
              "      <th></th>\n",
              "      <th></th>\n",
              "    </tr>\n",
              "  </thead>\n",
              "  <tbody>\n",
              "    <tr>\n",
              "      <th>1</th>\n",
              "      <td>77</td>\n",
              "      <td>Lógica de programação</td>\n",
              "    </tr>\n",
              "    <tr>\n",
              "      <th>2</th>\n",
              "      <td>4</td>\n",
              "      <td>Java para Web</td>\n",
              "    </tr>\n",
              "    <tr>\n",
              "      <th>3</th>\n",
              "      <td>32</td>\n",
              "      <td>C# para Web</td>\n",
              "    </tr>\n",
              "    <tr>\n",
              "      <th>4</th>\n",
              "      <td>68</td>\n",
              "      <td>Ruby on Rails</td>\n",
              "    </tr>\n",
              "    <tr>\n",
              "      <th>5</th>\n",
              "      <td>17</td>\n",
              "      <td>Cursos de Python</td>\n",
              "    </tr>\n",
              "    <tr>\n",
              "      <th>6</th>\n",
              "      <td>36</td>\n",
              "      <td>PHP com MySql</td>\n",
              "    </tr>\n",
              "    <tr>\n",
              "      <th>7</th>\n",
              "      <td>38</td>\n",
              "      <td>.NET para web</td>\n",
              "    </tr>\n",
              "    <tr>\n",
              "      <th>8</th>\n",
              "      <td>16</td>\n",
              "      <td>Novas integrações com Java</td>\n",
              "    </tr>\n",
              "    <tr>\n",
              "      <th>9</th>\n",
              "      <td>41</td>\n",
              "      <td>TDD com Java</td>\n",
              "    </tr>\n",
              "    <tr>\n",
              "      <th>10</th>\n",
              "      <td>67</td>\n",
              "      <td>Código limpo com C#</td>\n",
              "    </tr>\n",
              "    <tr>\n",
              "      <th>11</th>\n",
              "      <td>56</td>\n",
              "      <td>Preparatório para certificação Java</td>\n",
              "    </tr>\n",
              "    <tr>\n",
              "      <th>12</th>\n",
              "      <td>87</td>\n",
              "      <td>Hardware básico</td>\n",
              "    </tr>\n",
              "    <tr>\n",
              "      <th>13</th>\n",
              "      <td>17</td>\n",
              "      <td>Persistência com .NET</td>\n",
              "    </tr>\n",
              "    <tr>\n",
              "      <th>15</th>\n",
              "      <td>23</td>\n",
              "      <td>Análise de dados</td>\n",
              "    </tr>\n",
              "    <tr>\n",
              "      <th>16</th>\n",
              "      <td>74</td>\n",
              "      <td>Estatística básica</td>\n",
              "    </tr>\n",
              "    <tr>\n",
              "      <th>17</th>\n",
              "      <td>13</td>\n",
              "      <td>Internet das coisas</td>\n",
              "    </tr>\n",
              "    <tr>\n",
              "      <th>18</th>\n",
              "      <td>65</td>\n",
              "      <td>Programação funcional</td>\n",
              "    </tr>\n",
              "    <tr>\n",
              "      <th>19</th>\n",
              "      <td>81</td>\n",
              "      <td>Boas práticas em Java</td>\n",
              "    </tr>\n",
              "    <tr>\n",
              "      <th>20</th>\n",
              "      <td>42</td>\n",
              "      <td>Orientação objetos com Java</td>\n",
              "    </tr>\n",
              "  </tbody>\n",
              "</table>\n",
              "</div>"
            ],
            "text/plain": [
              "          quantidade_de_alunos                        nome_do_curso\n",
              "Id_curso                                                           \n",
              "1                           77                Lógica de programação\n",
              "2                            4                        Java para Web\n",
              "3                           32                          C# para Web\n",
              "4                           68                        Ruby on Rails\n",
              "5                           17                     Cursos de Python\n",
              "6                           36                        PHP com MySql\n",
              "7                           38                        .NET para web\n",
              "8                           16           Novas integrações com Java\n",
              "9                           41                         TDD com Java\n",
              "10                          67                  Código limpo com C#\n",
              "11                          56  Preparatório para certificação Java\n",
              "12                          87                      Hardware básico\n",
              "13                          17                Persistência com .NET\n",
              "15                          23                     Análise de dados\n",
              "16                          74                   Estatística básica\n",
              "17                          13                  Internet das coisas\n",
              "18                          65                Programação funcional\n",
              "19                          81                Boas práticas em Java\n",
              "20                          42          Orientação objetos com Java"
            ]
          },
          "metadata": {},
          "execution_count": 69
        }
      ]
    },
    {
      "cell_type": "code",
      "metadata": {
        "colab": {
          "base_uri": "https://localhost:8080/",
          "height": 0
        },
        "id": "7K3vILFDX7Ll",
        "outputId": "bda1c729-7320-4554-a9f2-24ad2a18cb39"
      },
      "source": [
        "matriculas.head()"
      ],
      "execution_count": 70,
      "outputs": [
        {
          "output_type": "execute_result",
          "data": {
            "text/html": [
              "<div>\n",
              "<style scoped>\n",
              "    .dataframe tbody tr th:only-of-type {\n",
              "        vertical-align: middle;\n",
              "    }\n",
              "\n",
              "    .dataframe tbody tr th {\n",
              "        vertical-align: top;\n",
              "    }\n",
              "\n",
              "    .dataframe thead th {\n",
              "        text-align: right;\n",
              "    }\n",
              "</style>\n",
              "<table border=\"1\" class=\"dataframe\">\n",
              "  <thead>\n",
              "    <tr style=\"text-align: right;\">\n",
              "      <th></th>\n",
              "      <th>Id_aluno</th>\n",
              "      <th>Id_curso</th>\n",
              "    </tr>\n",
              "  </thead>\n",
              "  <tbody>\n",
              "    <tr>\n",
              "      <th>0</th>\n",
              "      <td>235</td>\n",
              "      <td>19</td>\n",
              "    </tr>\n",
              "    <tr>\n",
              "      <th>1</th>\n",
              "      <td>43</td>\n",
              "      <td>6</td>\n",
              "    </tr>\n",
              "    <tr>\n",
              "      <th>2</th>\n",
              "      <td>304</td>\n",
              "      <td>16</td>\n",
              "    </tr>\n",
              "    <tr>\n",
              "      <th>3</th>\n",
              "      <td>304</td>\n",
              "      <td>18</td>\n",
              "    </tr>\n",
              "    <tr>\n",
              "      <th>4</th>\n",
              "      <td>304</td>\n",
              "      <td>11</td>\n",
              "    </tr>\n",
              "  </tbody>\n",
              "</table>\n",
              "</div>"
            ],
            "text/plain": [
              "   Id_aluno  Id_curso\n",
              "0       235        19\n",
              "1        43         6\n",
              "2       304        16\n",
              "3       304        18\n",
              "4       304        11"
            ]
          },
          "metadata": {},
          "execution_count": 70
        }
      ]
    },
    {
      "cell_type": "code",
      "metadata": {
        "id": "9YvI3GlvYFXl"
      },
      "source": [
        "Id_curso = 16\n",
        "proxima_turma = matriculas.query(\"Id_curso == {}\".format(Id_curso))"
      ],
      "execution_count": 71,
      "outputs": []
    },
    {
      "cell_type": "code",
      "metadata": {
        "colab": {
          "base_uri": "https://localhost:8080/",
          "height": 0
        },
        "id": "3y8evbGGYpbt",
        "outputId": "fd3b59e1-d93a-4af5-dbcd-fa692c2a0eb0"
      },
      "source": [
        "proxima_turma"
      ],
      "execution_count": 72,
      "outputs": [
        {
          "output_type": "execute_result",
          "data": {
            "text/html": [
              "<div>\n",
              "<style scoped>\n",
              "    .dataframe tbody tr th:only-of-type {\n",
              "        vertical-align: middle;\n",
              "    }\n",
              "\n",
              "    .dataframe tbody tr th {\n",
              "        vertical-align: top;\n",
              "    }\n",
              "\n",
              "    .dataframe thead th {\n",
              "        text-align: right;\n",
              "    }\n",
              "</style>\n",
              "<table border=\"1\" class=\"dataframe\">\n",
              "  <thead>\n",
              "    <tr style=\"text-align: right;\">\n",
              "      <th></th>\n",
              "      <th>Id_aluno</th>\n",
              "      <th>Id_curso</th>\n",
              "    </tr>\n",
              "  </thead>\n",
              "  <tbody>\n",
              "    <tr>\n",
              "      <th>2</th>\n",
              "      <td>304</td>\n",
              "      <td>16</td>\n",
              "    </tr>\n",
              "    <tr>\n",
              "      <th>21</th>\n",
              "      <td>174</td>\n",
              "      <td>16</td>\n",
              "    </tr>\n",
              "    <tr>\n",
              "      <th>25</th>\n",
              "      <td>218</td>\n",
              "      <td>16</td>\n",
              "    </tr>\n",
              "    <tr>\n",
              "      <th>38</th>\n",
              "      <td>347</td>\n",
              "      <td>16</td>\n",
              "    </tr>\n",
              "    <tr>\n",
              "      <th>41</th>\n",
              "      <td>163</td>\n",
              "      <td>16</td>\n",
              "    </tr>\n",
              "    <tr>\n",
              "      <th>...</th>\n",
              "      <td>...</td>\n",
              "      <td>...</td>\n",
              "    </tr>\n",
              "    <tr>\n",
              "      <th>813</th>\n",
              "      <td>48</td>\n",
              "      <td>16</td>\n",
              "    </tr>\n",
              "    <tr>\n",
              "      <th>819</th>\n",
              "      <td>114</td>\n",
              "      <td>16</td>\n",
              "    </tr>\n",
              "    <tr>\n",
              "      <th>837</th>\n",
              "      <td>84</td>\n",
              "      <td>16</td>\n",
              "    </tr>\n",
              "    <tr>\n",
              "      <th>845</th>\n",
              "      <td>99</td>\n",
              "      <td>16</td>\n",
              "    </tr>\n",
              "    <tr>\n",
              "      <th>848</th>\n",
              "      <td>323</td>\n",
              "      <td>16</td>\n",
              "    </tr>\n",
              "  </tbody>\n",
              "</table>\n",
              "<p>74 rows × 2 columns</p>\n",
              "</div>"
            ],
            "text/plain": [
              "     Id_aluno  Id_curso\n",
              "2         304        16\n",
              "21        174        16\n",
              "25        218        16\n",
              "38        347        16\n",
              "41        163        16\n",
              "..        ...       ...\n",
              "813        48        16\n",
              "819       114        16\n",
              "837        84        16\n",
              "845        99        16\n",
              "848       323        16\n",
              "\n",
              "[74 rows x 2 columns]"
            ]
          },
          "metadata": {},
          "execution_count": 72
        }
      ]
    },
    {
      "cell_type": "code",
      "metadata": {
        "colab": {
          "base_uri": "https://localhost:8080/",
          "height": 0
        },
        "id": "2BvK9THVYrrB",
        "outputId": "38d059c2-443c-4601-e307-4df6b1685e1a"
      },
      "source": [
        "nomes.sample(3)"
      ],
      "execution_count": 73,
      "outputs": [
        {
          "output_type": "execute_result",
          "data": {
            "text/html": [
              "<div>\n",
              "<style scoped>\n",
              "    .dataframe tbody tr th:only-of-type {\n",
              "        vertical-align: middle;\n",
              "    }\n",
              "\n",
              "    .dataframe tbody tr th {\n",
              "        vertical-align: top;\n",
              "    }\n",
              "\n",
              "    .dataframe thead th {\n",
              "        text-align: right;\n",
              "    }\n",
              "</style>\n",
              "<table border=\"1\" class=\"dataframe\">\n",
              "  <thead>\n",
              "    <tr style=\"text-align: right;\">\n",
              "      <th></th>\n",
              "      <th>nome</th>\n",
              "      <th>Id_aluno</th>\n",
              "      <th>dominio</th>\n",
              "      <th>email</th>\n",
              "      <th>matriculas</th>\n",
              "    </tr>\n",
              "  </thead>\n",
              "  <tbody>\n",
              "    <tr>\n",
              "      <th>98</th>\n",
              "      <td>GILSON</td>\n",
              "      <td>134</td>\n",
              "      <td>@dominiodoemmail.com.br</td>\n",
              "      <td>gilson@dominiodoemmail.com.br</td>\n",
              "      <td>2</td>\n",
              "    </tr>\n",
              "    <tr>\n",
              "      <th>93</th>\n",
              "      <td>ADILSON</td>\n",
              "      <td>257</td>\n",
              "      <td>@dominiodoemmail.com.br</td>\n",
              "      <td>adilson@dominiodoemmail.com.br</td>\n",
              "      <td>3</td>\n",
              "    </tr>\n",
              "    <tr>\n",
              "      <th>42</th>\n",
              "      <td>MARLENE</td>\n",
              "      <td>268</td>\n",
              "      <td>@servicodoemail.com</td>\n",
              "      <td>marlene@servicodoemail.com</td>\n",
              "      <td>4</td>\n",
              "    </tr>\n",
              "  </tbody>\n",
              "</table>\n",
              "</div>"
            ],
            "text/plain": [
              "       nome  Id_aluno  ...                           email matriculas\n",
              "98   GILSON       134  ...   gilson@dominiodoemmail.com.br          2\n",
              "93  ADILSON       257  ...  adilson@dominiodoemmail.com.br          3\n",
              "42  MARLENE       268  ...      marlene@servicodoemail.com          4\n",
              "\n",
              "[3 rows x 5 columns]"
            ]
          },
          "metadata": {},
          "execution_count": 73
        }
      ]
    },
    {
      "cell_type": "code",
      "metadata": {
        "colab": {
          "base_uri": "https://localhost:8080/"
        },
        "id": "F1MI-I8PZCts",
        "outputId": "5f384733-3535-49ae-d9bb-c57c7d31085a"
      },
      "source": [
        "proxima_turma.set_index('Id_aluno').join(nomes.set_index('Id_aluno'))['nome']"
      ],
      "execution_count": 74,
      "outputs": [
        {
          "output_type": "execute_result",
          "data": {
            "text/plain": [
              "Id_aluno\n",
              "6       CINTIA\n",
              "9        RENAN\n",
              "12        RITA\n",
              "17     WILLIAN\n",
              "29       LUCAS\n",
              "        ...   \n",
              "380       ELZA\n",
              "380       ELZA\n",
              "386     YASMIN\n",
              "393      JOSUE\n",
              "399     CICERA\n",
              "Name: nome, Length: 74, dtype: object"
            ]
          },
          "metadata": {},
          "execution_count": 74
        }
      ]
    },
    {
      "cell_type": "code",
      "metadata": {
        "id": "uOwgqtudZSNq"
      },
      "source": [
        "proxima_turma = proxima_turma.set_index('Id_aluno').join(nomes.set_index('Id_aluno'))['nome'].to_frame()"
      ],
      "execution_count": 75,
      "outputs": []
    },
    {
      "cell_type": "code",
      "metadata": {
        "colab": {
          "base_uri": "https://localhost:8080/",
          "height": 0
        },
        "id": "88IfkMVCbZTu",
        "outputId": "1171ac47-52cc-43fd-84a7-64c6d9f8ead4"
      },
      "source": [
        "proxima_turma"
      ],
      "execution_count": 76,
      "outputs": [
        {
          "output_type": "execute_result",
          "data": {
            "text/html": [
              "<div>\n",
              "<style scoped>\n",
              "    .dataframe tbody tr th:only-of-type {\n",
              "        vertical-align: middle;\n",
              "    }\n",
              "\n",
              "    .dataframe tbody tr th {\n",
              "        vertical-align: top;\n",
              "    }\n",
              "\n",
              "    .dataframe thead th {\n",
              "        text-align: right;\n",
              "    }\n",
              "</style>\n",
              "<table border=\"1\" class=\"dataframe\">\n",
              "  <thead>\n",
              "    <tr style=\"text-align: right;\">\n",
              "      <th></th>\n",
              "      <th>nome</th>\n",
              "    </tr>\n",
              "    <tr>\n",
              "      <th>Id_aluno</th>\n",
              "      <th></th>\n",
              "    </tr>\n",
              "  </thead>\n",
              "  <tbody>\n",
              "    <tr>\n",
              "      <th>6</th>\n",
              "      <td>CINTIA</td>\n",
              "    </tr>\n",
              "    <tr>\n",
              "      <th>9</th>\n",
              "      <td>RENAN</td>\n",
              "    </tr>\n",
              "    <tr>\n",
              "      <th>12</th>\n",
              "      <td>RITA</td>\n",
              "    </tr>\n",
              "    <tr>\n",
              "      <th>17</th>\n",
              "      <td>WILLIAN</td>\n",
              "    </tr>\n",
              "    <tr>\n",
              "      <th>29</th>\n",
              "      <td>LUCAS</td>\n",
              "    </tr>\n",
              "    <tr>\n",
              "      <th>...</th>\n",
              "      <td>...</td>\n",
              "    </tr>\n",
              "    <tr>\n",
              "      <th>380</th>\n",
              "      <td>ELZA</td>\n",
              "    </tr>\n",
              "    <tr>\n",
              "      <th>380</th>\n",
              "      <td>ELZA</td>\n",
              "    </tr>\n",
              "    <tr>\n",
              "      <th>386</th>\n",
              "      <td>YASMIN</td>\n",
              "    </tr>\n",
              "    <tr>\n",
              "      <th>393</th>\n",
              "      <td>JOSUE</td>\n",
              "    </tr>\n",
              "    <tr>\n",
              "      <th>399</th>\n",
              "      <td>CICERA</td>\n",
              "    </tr>\n",
              "  </tbody>\n",
              "</table>\n",
              "<p>74 rows × 1 columns</p>\n",
              "</div>"
            ],
            "text/plain": [
              "             nome\n",
              "Id_aluno         \n",
              "6          CINTIA\n",
              "9           RENAN\n",
              "12           RITA\n",
              "17        WILLIAN\n",
              "29          LUCAS\n",
              "...           ...\n",
              "380          ELZA\n",
              "380          ELZA\n",
              "386        YASMIN\n",
              "393         JOSUE\n",
              "399        CICERA\n",
              "\n",
              "[74 rows x 1 columns]"
            ]
          },
          "metadata": {},
          "execution_count": 76
        }
      ]
    },
    {
      "cell_type": "code",
      "metadata": {
        "colab": {
          "base_uri": "https://localhost:8080/"
        },
        "id": "3sgPCZ41dB7F",
        "outputId": "9dcf9e46-a589-4a38-ef1e-fe96bc24e6cf"
      },
      "source": [
        "nome_curso = cursos.loc[Id_curso]\n",
        "nome_curso"
      ],
      "execution_count": 77,
      "outputs": [
        {
          "output_type": "execute_result",
          "data": {
            "text/plain": [
              "nome_do_curso    Estatística básica\n",
              "Name: 16, dtype: object"
            ]
          },
          "metadata": {},
          "execution_count": 77
        }
      ]
    },
    {
      "cell_type": "code",
      "metadata": {
        "colab": {
          "base_uri": "https://localhost:8080/",
          "height": 0
        },
        "id": "tW0d-RHldJ4k",
        "outputId": "6a03ca4c-b241-4ad9-92b6-6130f7f189e1"
      },
      "source": [
        "nome_curso = nome_curso.nome_do_curso\n",
        "nome_curso"
      ],
      "execution_count": 78,
      "outputs": [
        {
          "output_type": "execute_result",
          "data": {
            "application/vnd.google.colaboratory.intrinsic+json": {
              "type": "string"
            },
            "text/plain": [
              "'Estatística básica'"
            ]
          },
          "metadata": {},
          "execution_count": 78
        }
      ]
    },
    {
      "cell_type": "code",
      "metadata": {
        "id": "G8XLMkw8dSwu"
      },
      "source": [
        "proxima_turma = proxima_turma.rename(columns = {'nome':'Alunos do curso de {}'.format(nome_curso)})"
      ],
      "execution_count": 79,
      "outputs": []
    },
    {
      "cell_type": "code",
      "metadata": {
        "id": "scJ_Cvvdd0zB",
        "colab": {
          "base_uri": "https://localhost:8080/",
          "height": 0
        },
        "outputId": "93be1e53-1627-458f-aefc-f562f8b2715c"
      },
      "source": [
        "proxima_turma.sample(5)"
      ],
      "execution_count": 80,
      "outputs": [
        {
          "output_type": "execute_result",
          "data": {
            "text/html": [
              "<div>\n",
              "<style scoped>\n",
              "    .dataframe tbody tr th:only-of-type {\n",
              "        vertical-align: middle;\n",
              "    }\n",
              "\n",
              "    .dataframe tbody tr th {\n",
              "        vertical-align: top;\n",
              "    }\n",
              "\n",
              "    .dataframe thead th {\n",
              "        text-align: right;\n",
              "    }\n",
              "</style>\n",
              "<table border=\"1\" class=\"dataframe\">\n",
              "  <thead>\n",
              "    <tr style=\"text-align: right;\">\n",
              "      <th></th>\n",
              "      <th>Alunos do curso de Estatística básica</th>\n",
              "    </tr>\n",
              "    <tr>\n",
              "      <th>Id_aluno</th>\n",
              "      <th></th>\n",
              "    </tr>\n",
              "  </thead>\n",
              "  <tbody>\n",
              "    <tr>\n",
              "      <th>47</th>\n",
              "      <td>ALESSANDRO</td>\n",
              "    </tr>\n",
              "    <tr>\n",
              "      <th>337</th>\n",
              "      <td>ALEX</td>\n",
              "    </tr>\n",
              "    <tr>\n",
              "      <th>290</th>\n",
              "      <td>ROBSON</td>\n",
              "    </tr>\n",
              "    <tr>\n",
              "      <th>84</th>\n",
              "      <td>KAUAN</td>\n",
              "    </tr>\n",
              "    <tr>\n",
              "      <th>138</th>\n",
              "      <td>MARCELO</td>\n",
              "    </tr>\n",
              "  </tbody>\n",
              "</table>\n",
              "</div>"
            ],
            "text/plain": [
              "         Alunos do curso de Estatística básica\n",
              "Id_aluno                                      \n",
              "47                                  ALESSANDRO\n",
              "337                                       ALEX\n",
              "290                                     ROBSON\n",
              "84                                       KAUAN\n",
              "138                                    MARCELO"
            ]
          },
          "metadata": {},
          "execution_count": 80
        }
      ]
    },
    {
      "cell_type": "markdown",
      "metadata": {
        "id": "E99eGUeE_iug"
      },
      "source": [
        "# Excel"
      ]
    },
    {
      "cell_type": "code",
      "metadata": {
        "id": "ZKAyZrDh_sy8"
      },
      "source": [
        "proxima_turma.to_excel('proxima_turma.xlsx', index=False)"
      ],
      "execution_count": 81,
      "outputs": []
    },
    {
      "cell_type": "code",
      "metadata": {
        "colab": {
          "base_uri": "https://localhost:8080/",
          "height": 0
        },
        "id": "wzlGKWHM_6bO",
        "outputId": "031c55c4-d3ee-4a70-a8d4-1139440207b1"
      },
      "source": [
        "pd.read_excel('proxima_turma.xlsx')"
      ],
      "execution_count": 82,
      "outputs": [
        {
          "output_type": "execute_result",
          "data": {
            "text/html": [
              "<div>\n",
              "<style scoped>\n",
              "    .dataframe tbody tr th:only-of-type {\n",
              "        vertical-align: middle;\n",
              "    }\n",
              "\n",
              "    .dataframe tbody tr th {\n",
              "        vertical-align: top;\n",
              "    }\n",
              "\n",
              "    .dataframe thead th {\n",
              "        text-align: right;\n",
              "    }\n",
              "</style>\n",
              "<table border=\"1\" class=\"dataframe\">\n",
              "  <thead>\n",
              "    <tr style=\"text-align: right;\">\n",
              "      <th></th>\n",
              "      <th>Alunos do curso de Estatística básica</th>\n",
              "    </tr>\n",
              "  </thead>\n",
              "  <tbody>\n",
              "    <tr>\n",
              "      <th>0</th>\n",
              "      <td>CINTIA</td>\n",
              "    </tr>\n",
              "    <tr>\n",
              "      <th>1</th>\n",
              "      <td>RENAN</td>\n",
              "    </tr>\n",
              "    <tr>\n",
              "      <th>2</th>\n",
              "      <td>RITA</td>\n",
              "    </tr>\n",
              "    <tr>\n",
              "      <th>3</th>\n",
              "      <td>WILLIAN</td>\n",
              "    </tr>\n",
              "    <tr>\n",
              "      <th>4</th>\n",
              "      <td>LUCAS</td>\n",
              "    </tr>\n",
              "    <tr>\n",
              "      <th>...</th>\n",
              "      <td>...</td>\n",
              "    </tr>\n",
              "    <tr>\n",
              "      <th>69</th>\n",
              "      <td>ELZA</td>\n",
              "    </tr>\n",
              "    <tr>\n",
              "      <th>70</th>\n",
              "      <td>ELZA</td>\n",
              "    </tr>\n",
              "    <tr>\n",
              "      <th>71</th>\n",
              "      <td>YASMIN</td>\n",
              "    </tr>\n",
              "    <tr>\n",
              "      <th>72</th>\n",
              "      <td>JOSUE</td>\n",
              "    </tr>\n",
              "    <tr>\n",
              "      <th>73</th>\n",
              "      <td>CICERA</td>\n",
              "    </tr>\n",
              "  </tbody>\n",
              "</table>\n",
              "<p>74 rows × 1 columns</p>\n",
              "</div>"
            ],
            "text/plain": [
              "   Alunos do curso de Estatística básica\n",
              "0                                 CINTIA\n",
              "1                                  RENAN\n",
              "2                                   RITA\n",
              "3                                WILLIAN\n",
              "4                                  LUCAS\n",
              "..                                   ...\n",
              "69                                  ELZA\n",
              "70                                  ELZA\n",
              "71                                YASMIN\n",
              "72                                 JOSUE\n",
              "73                                CICERA\n",
              "\n",
              "[74 rows x 1 columns]"
            ]
          },
          "metadata": {},
          "execution_count": 82
        }
      ]
    },
    {
      "cell_type": "code",
      "metadata": {
        "id": "wSXIr3FkBRuM"
      },
      "source": [
        ""
      ],
      "execution_count": 82,
      "outputs": []
    }
  ]
}